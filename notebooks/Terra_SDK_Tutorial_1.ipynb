{
  "nbformat": 4,
  "nbformat_minor": 0,
  "metadata": {
    "colab": {
      "name": "Terra SDK Tutorial.ipynb",
      "provenance": [],
      "collapsed_sections": [],
      "include_colab_link": true
    },
    "kernelspec": {
      "display_name": "Python 3",
      "name": "python3"
    },
    "language_info": {
      "name": "python"
    }
  },
  "cells": [
    {
      "cell_type": "markdown",
      "metadata": {
        "id": "view-in-github",
        "colab_type": "text"
      },
      "source": [
        "<a href=\"https://colab.research.google.com/github/lejimmy/terra-python-sdk/blob/main/notebooks/Terra_SDK_Tutorial.ipynb\" target=\"_parent\"><img src=\"https://colab.research.google.com/assets/colab-badge.svg\" alt=\"Open In Colab\"/></a>"
      ]
    },
    {
      "cell_type": "markdown",
      "metadata": {
        "id": "bsX6V-ndcr2O"
      },
      "source": [
        "# Terra SDK for Python - Intro Tutorial\n",
        "Notebook for William Chen's [YouTube Tutorial](https://youtu.be/GfasBlJHKIg)."
      ]
    },
    {
      "cell_type": "code",
      "metadata": {
        "colab": {
          "base_uri": "https://localhost:8080/"
        },
        "id": "j4BC9x4WzJ6X",
        "outputId": "db0f0e38-29af-4dc0-934f-66c62cb59dac"
      },
      "source": [
        "# install terra sdk for python\n",
        "!pip install terra-sdk"
      ],
      "execution_count": 1,
      "outputs": [
        {
          "output_type": "stream",
          "text": [
            "Requirement already satisfied: terra-sdk in /usr/local/lib/python3.7/dist-packages (0.14.0)\n",
            "Requirement already satisfied: bip32utils<0.4,>=0.3.post4 in /usr/local/lib/python3.7/dist-packages (from terra-sdk) (0.3.post4)\n",
            "Requirement already satisfied: nest-asyncio<2.0.0,>=1.5.1 in /usr/local/lib/python3.7/dist-packages (from terra-sdk) (1.5.1)\n",
            "Requirement already satisfied: attrs<21.0.0,>=20.3.0 in /usr/local/lib/python3.7/dist-packages (from terra-sdk) (20.3.0)\n",
            "Requirement already satisfied: aiohttp<4.0.0,>=3.7.3 in /usr/local/lib/python3.7/dist-packages (from terra-sdk) (3.7.4.post0)\n",
            "Requirement already satisfied: wrapt<2.0.0,>=1.12.1 in /usr/local/lib/python3.7/dist-packages (from terra-sdk) (1.12.1)\n",
            "Requirement already satisfied: bech32<2.0.0,>=1.2.0 in /usr/local/lib/python3.7/dist-packages (from terra-sdk) (1.2.0)\n",
            "Requirement already satisfied: ecdsa<0.17.0,>=0.16.1 in /usr/local/lib/python3.7/dist-packages (from terra-sdk) (0.16.1)\n",
            "Requirement already satisfied: mnemonic<0.20,>=0.19 in /usr/local/lib/python3.7/dist-packages (from terra-sdk) (0.19)\n",
            "Requirement already satisfied: yarl<2.0,>=1.0 in /usr/local/lib/python3.7/dist-packages (from aiohttp<4.0.0,>=3.7.3->terra-sdk) (1.6.3)\n",
            "Requirement already satisfied: chardet<5.0,>=2.0 in /usr/local/lib/python3.7/dist-packages (from aiohttp<4.0.0,>=3.7.3->terra-sdk) (3.0.4)\n",
            "Requirement already satisfied: async-timeout<4.0,>=3.0 in /usr/local/lib/python3.7/dist-packages (from aiohttp<4.0.0,>=3.7.3->terra-sdk) (3.0.1)\n",
            "Requirement already satisfied: typing-extensions>=3.6.5 in /usr/local/lib/python3.7/dist-packages (from aiohttp<4.0.0,>=3.7.3->terra-sdk) (3.7.4.3)\n",
            "Requirement already satisfied: multidict<7.0,>=4.5 in /usr/local/lib/python3.7/dist-packages (from aiohttp<4.0.0,>=3.7.3->terra-sdk) (5.1.0)\n",
            "Requirement already satisfied: six>=1.9.0 in /usr/local/lib/python3.7/dist-packages (from ecdsa<0.17.0,>=0.16.1->terra-sdk) (1.15.0)\n",
            "Requirement already satisfied: idna>=2.0 in /usr/local/lib/python3.7/dist-packages (from yarl<2.0,>=1.0->aiohttp<4.0.0,>=3.7.3->terra-sdk) (2.10)\n"
          ],
          "name": "stdout"
        }
      ]
    },
    {
      "cell_type": "markdown",
      "metadata": {
        "id": "gN_B_kuQdyNL"
      },
      "source": [
        "# Connect to a Light Client Daemon (LCD) Server\n",
        "The Terra SDKs rely on an active connection to a running LCD server.\n",
        "\n",
        "The Light Client Daemon (LCD) provides a REST-based adapter for the RPC endpoints, which also helps for decoding the Amino-encoded blockchain data into parseable JSON. This enables apps to communicate with a node through simple HTTP."
      ]
    },
    {
      "cell_type": "code",
      "metadata": {
        "id": "cQLpvmVgzh0O"
      },
      "source": [
        "# import the LCDClient module\n",
        "from terra_sdk.client.lcd import LCDClient"
      ],
      "execution_count": 2,
      "outputs": []
    },
    {
      "cell_type": "code",
      "metadata": {
        "id": "ZiY03wnmzyrr"
      },
      "source": [
        "# connect to test net node by specifying the url and chain-id\n",
        "terra = LCDClient('https://tequila-lcd.terra.dev', 'tequila-0004')"
      ],
      "execution_count": 3,
      "outputs": []
    },
    {
      "cell_type": "markdown",
      "metadata": {
        "id": "f68A7UWfeXzC"
      },
      "source": [
        "Now that we're connected, we'll try out some available commands."
      ]
    },
    {
      "cell_type": "code",
      "metadata": {
        "colab": {
          "base_uri": "https://localhost:8080/"
        },
        "id": "O5gl3SQ9z3Hx",
        "outputId": "77f5e833-f908-44d5-ab03-eea1402d67f1"
      },
      "source": [
        "# node info \n",
        "terra.tendermint.node_info()"
      ],
      "execution_count": 4,
      "outputs": [
        {
          "output_type": "execute_result",
          "data": {
            "text/plain": [
              "{'application_version': {'build_deps': ['github.com/99designs/keyring@v1.1.6',\n",
              "   'github.com/ChainSafe/go-schnorrkel@v0.0.0-20200405005733-88cbf1b4c40d',\n",
              "   'github.com/CosmWasm/go-cosmwasm@v0.10.0 => github.com/terra-project/go-cosmwasm@v0.10.4',\n",
              "   'github.com/Workiva/go-datastructures@v1.0.52',\n",
              "   'github.com/bartekn/go-bip39@v0.0.0-20171116152956-a05967ea095d',\n",
              "   'github.com/beorn7/perks@v1.0.1',\n",
              "   'github.com/bgentry/speakeasy@v0.1.0',\n",
              "   'github.com/btcsuite/btcd@v0.20.1-beta',\n",
              "   'github.com/btcsuite/btcutil@v1.0.2',\n",
              "   'github.com/cespare/xxhash/v2@v2.1.1',\n",
              "   'github.com/cosmos/cosmos-sdk@v0.39.2 => github.com/terra-project/cosmos-sdk@v0.39.2-public.4',\n",
              "   'github.com/cosmos/go-bip39@v0.0.0-20180819234021-555e2067c45d',\n",
              "   'github.com/cosmos/ledger-cosmos-go@v0.11.1 => github.com/terra-project/ledger-terra-go@v0.11.1-terra',\n",
              "   'github.com/cosmos/ledger-go@v0.9.2',\n",
              "   'github.com/davecgh/go-spew@v1.1.1',\n",
              "   'github.com/dvsekhvalnov/jose2go@v0.0.0-20200901110807-248326c1351b',\n",
              "   'github.com/fsnotify/fsnotify@v1.4.7',\n",
              "   'github.com/go-kit/kit@v0.10.0',\n",
              "   'github.com/go-logfmt/logfmt@v0.5.0',\n",
              "   'github.com/godbus/dbus@v0.0.0-20190726142602-4481cbc300e2',\n",
              "   'github.com/gogo/protobuf@v1.3.1',\n",
              "   'github.com/golang/protobuf@v1.4.1',\n",
              "   'github.com/golang/snappy@v0.0.2',\n",
              "   'github.com/google/btree@v1.0.0',\n",
              "   'github.com/gorilla/handlers@v1.4.2',\n",
              "   'github.com/gorilla/mux@v1.7.4',\n",
              "   'github.com/gorilla/websocket@v1.4.2',\n",
              "   'github.com/gsterjov/go-libsecret@v0.0.0-20161001094733-a6f4afe4910c',\n",
              "   'github.com/gtank/merlin@v0.1.1',\n",
              "   'github.com/gtank/ristretto255@v0.1.2',\n",
              "   'github.com/hashicorp/golang-lru@v0.5.4',\n",
              "   'github.com/hashicorp/hcl@v1.0.0',\n",
              "   'github.com/libp2p/go-buffer-pool@v0.0.2',\n",
              "   'github.com/magiconair/properties@v1.8.1',\n",
              "   'github.com/mattn/go-isatty@v0.0.12',\n",
              "   'github.com/matttproud/golang_protobuf_extensions@v1.0.1',\n",
              "   'github.com/mimoo/StrobeGo@v0.0.0-20181016162300-f8f6d4d2b643',\n",
              "   'github.com/minio/highwayhash@v1.0.0',\n",
              "   'github.com/mitchellh/go-homedir@v1.1.0',\n",
              "   'github.com/mitchellh/mapstructure@v1.1.2',\n",
              "   'github.com/mtibben/percent@v0.2.1',\n",
              "   'github.com/pelletier/go-toml@v1.6.0',\n",
              "   'github.com/pkg/errors@v0.9.1',\n",
              "   'github.com/pmezard/go-difflib@v1.0.0',\n",
              "   'github.com/prometheus/client_golang@v1.5.1',\n",
              "   'github.com/prometheus/client_model@v0.2.0',\n",
              "   'github.com/prometheus/common@v0.9.1',\n",
              "   'github.com/prometheus/procfs@v0.0.8',\n",
              "   'github.com/rakyll/statik@v0.1.6',\n",
              "   'github.com/rcrowley/go-metrics@v0.0.0-20200313005456-10cdbea86bc0',\n",
              "   'github.com/rs/cors@v1.7.0',\n",
              "   'github.com/spf13/afero@v1.2.1',\n",
              "   'github.com/spf13/cast@v1.3.0',\n",
              "   'github.com/spf13/cobra@v1.0.0',\n",
              "   'github.com/spf13/jwalterweatherman@v1.1.0',\n",
              "   'github.com/spf13/pflag@v1.0.5',\n",
              "   'github.com/spf13/viper@v1.6.3',\n",
              "   'github.com/stretchr/testify@v1.6.1',\n",
              "   'github.com/subosito/gotenv@v1.2.0',\n",
              "   'github.com/syndtr/goleveldb@v1.0.1-0.20190923125748-758128399b1d',\n",
              "   'github.com/tendermint/btcd@v0.1.1',\n",
              "   'github.com/tendermint/crypto@v0.0.0-20191022145703-50d29ede1e15',\n",
              "   'github.com/tendermint/go-amino@v0.15.1',\n",
              "   'github.com/tendermint/iavl@v0.14.1',\n",
              "   'github.com/tendermint/tendermint@v0.33.9',\n",
              "   'github.com/tendermint/tm-db@v0.5.1',\n",
              "   'github.com/zondax/hid@v0.9.0',\n",
              "   'golang.org/x/crypto@v0.0.0-20200622213623-75b288015ac9',\n",
              "   'golang.org/x/net@v0.0.0-20201010224723-4f7140c49acb',\n",
              "   'golang.org/x/sys@v0.0.0-20201013132646-2da7054afaeb',\n",
              "   'golang.org/x/text@v0.3.3',\n",
              "   'google.golang.org/genproto@v0.0.0-20200526211855-cb27e3aa2013',\n",
              "   'google.golang.org/grpc@v1.30.0',\n",
              "   'google.golang.org/protobuf@v1.25.0',\n",
              "   'gopkg.in/ini.v1@v1.51.0',\n",
              "   'gopkg.in/yaml.v2@v2.3.0',\n",
              "   'gopkg.in/yaml.v3@v3.0.0-20200313102051-9f266ea9e77c'],\n",
              "  'build_tags': 'netgo ledger muslc,',\n",
              "  'client_name': 'terracli',\n",
              "  'commit': 'b53f1bc72f018806f62b8770256902721b8e499d',\n",
              "  'go': 'go version go1.14.4 linux/amd64',\n",
              "  'name': 'terra',\n",
              "  'server_name': 'terrad',\n",
              "  'version': '0.4.2-rc0-25-gb53f1bc'},\n",
              " 'node_info': {'channels': '4020212223303800',\n",
              "  'id': '5e58149fb5fa719bd49588efa87a5b79df09d720',\n",
              "  'listen_addr': 'tcp://0.0.0.0:26656',\n",
              "  'moniker': 'tequila-rpc4',\n",
              "  'network': 'tequila-0004',\n",
              "  'other': {'rpc_address': 'tcp://0.0.0.0:26657', 'tx_index': 'on'},\n",
              "  'protocol_version': {'app': '0', 'block': '10', 'p2p': '7'},\n",
              "  'version': '0.33.9'}}"
            ]
          },
          "metadata": {
            "tags": []
          },
          "execution_count": 4
        }
      ]
    },
    {
      "cell_type": "code",
      "metadata": {
        "colab": {
          "base_uri": "https://localhost:8080/"
        },
        "id": "jeap9GGoz4yy",
        "outputId": "c40c8c9e-5f8d-465a-c43d-aee727323f0b"
      },
      "source": [
        "# oracle parameters\n",
        "terra.oracle.parameters()"
      ],
      "execution_count": 5,
      "outputs": [
        {
          "output_type": "execute_result",
          "data": {
            "text/plain": [
              "{'min_valid_per_window': '0.050000000000000000',\n",
              " 'reward_band': '0.020000000000000000',\n",
              " 'reward_distribution_window': '5256000',\n",
              " 'slash_fraction': '0.000100000000000000',\n",
              " 'slash_window': '100800',\n",
              " 'vote_period': '5',\n",
              " 'vote_threshold': '0.500000000000000000',\n",
              " 'whitelist': [{'name': 'ukrw', 'tobin_tax': '0.010000000000000000'},\n",
              "  {'name': 'usdr', 'tobin_tax': '0.003500000000000000'},\n",
              "  {'name': 'uusd', 'tobin_tax': '0.003500000000000000'},\n",
              "  {'name': 'umnt', 'tobin_tax': '0.020000000000000000'},\n",
              "  {'name': 'ueur', 'tobin_tax': '0.003500000000000000'},\n",
              "  {'name': 'ucny', 'tobin_tax': '0.003500000000000000'},\n",
              "  {'name': 'ujpy', 'tobin_tax': '0.003500000000000000'},\n",
              "  {'name': 'ugbp', 'tobin_tax': '0.003500000000000000'},\n",
              "  {'name': 'uinr', 'tobin_tax': '0.003500000000000000'},\n",
              "  {'name': 'ucad', 'tobin_tax': '0.003500000000000000'},\n",
              "  {'name': 'uchf', 'tobin_tax': '0.003500000000000000'},\n",
              "  {'name': 'uhkd', 'tobin_tax': '0.003500000000000000'},\n",
              "  {'name': 'usgd', 'tobin_tax': '0.003500000000000000'},\n",
              "  {'name': 'uaud', 'tobin_tax': '0.003500000000000000'},\n",
              "  {'name': 'uthb', 'tobin_tax': '0.007500000000000000'},\n",
              "  {'name': 'usek', 'tobin_tax': '0.003500000000000000'},\n",
              "  {'name': 'unok', 'tobin_tax': '0.003500000000000000'},\n",
              "  {'name': 'udkk', 'tobin_tax': '0.003500000000000000'}]}"
            ]
          },
          "metadata": {
            "tags": []
          },
          "execution_count": 5
        }
      ]
    },
    {
      "cell_type": "code",
      "metadata": {
        "colab": {
          "base_uri": "https://localhost:8080/",
          "height": 35
        },
        "id": "QH1hADk60AB7",
        "outputId": "7633d70c-0828-426d-e783-5614c263f36b"
      },
      "source": [
        "# block height of last query\n",
        "terra.last_request_height"
      ],
      "execution_count": 6,
      "outputs": [
        {
          "output_type": "execute_result",
          "data": {
            "application/vnd.google.colaboratory.intrinsic+json": {
              "type": "string"
            },
            "text/plain": [
              "'5175506'"
            ]
          },
          "metadata": {
            "tags": []
          },
          "execution_count": 6
        }
      ]
    },
    {
      "cell_type": "code",
      "metadata": {
        "colab": {
          "base_uri": "https://localhost:8080/"
        },
        "id": "wz9Pd-8r0CXB",
        "outputId": "77b50efe-14c9-4c74-da8a-5a67eb569b23"
      },
      "source": [
        "# current tax rate\n",
        "terra.treasury.tax_rate()"
      ],
      "execution_count": 7,
      "outputs": [
        {
          "output_type": "execute_result",
          "data": {
            "text/plain": [
              "Dec('0.002467377735563951')"
            ]
          },
          "metadata": {
            "tags": []
          },
          "execution_count": 7
        }
      ]
    },
    {
      "cell_type": "markdown",
      "metadata": {
        "id": "KKYnvY6U0XwQ"
      },
      "source": [
        "# Create a New Wallet"
      ]
    },
    {
      "cell_type": "code",
      "metadata": {
        "id": "vlE5ZWlN0OEN"
      },
      "source": [
        "from terra_sdk.key.mnemonic import MnemonicKey\n",
        "\n",
        "# recover an existing wallet\n",
        "mk = MnemonicKey(mnemonic='secret globe hint gather move evil monster column disorder burden couple odor salad holiday small float endorse alley escape veteran cruel cross web during')"
      ],
      "execution_count": 8,
      "outputs": []
    },
    {
      "cell_type": "code",
      "metadata": {
        "colab": {
          "base_uri": "https://localhost:8080/",
          "height": 35
        },
        "id": "F-3eWiZF08XU",
        "outputId": "32a4393b-5180-4991-f27d-9afbdccf7ce3"
      },
      "source": [
        "# wallet address\n",
        "mk.acc_address"
      ],
      "execution_count": 9,
      "outputs": [
        {
          "output_type": "execute_result",
          "data": {
            "application/vnd.google.colaboratory.intrinsic+json": {
              "type": "string"
            },
            "text/plain": [
              "'terra1la8v6shy3gaumtqwj94g54nsedpa26yxmfdfzx'"
            ]
          },
          "metadata": {
            "tags": []
          },
          "execution_count": 9
        }
      ]
    },
    {
      "cell_type": "code",
      "metadata": {
        "colab": {
          "base_uri": "https://localhost:8080/"
        },
        "id": "ji6lBLwp09eM",
        "outputId": "11efd44f-640a-4acc-8f4e-2cda0a663bbf"
      },
      "source": [
        "# private key in bytes\n",
        "mk.private_key"
      ],
      "execution_count": 10,
      "outputs": [
        {
          "output_type": "execute_result",
          "data": {
            "text/plain": [
              "b\"\\xef\\xbd8d3\\x81Y\\xfb\\xbdM\\x89 \\x81\\xe2Z\\xf6'`\\xed\\xe8!\\xed\\xd4svy8\\xc6\\x12\\x03\\x9c\\x9c\""
            ]
          },
          "metadata": {
            "tags": []
          },
          "execution_count": 10
        }
      ]
    },
    {
      "cell_type": "code",
      "metadata": {
        "id": "bVsK8OEW2eQP"
      },
      "source": [
        "# create a second wallet\n",
        "mk2 = MnemonicKey()"
      ],
      "execution_count": 11,
      "outputs": []
    },
    {
      "cell_type": "code",
      "metadata": {
        "colab": {
          "base_uri": "https://localhost:8080/"
        },
        "id": "Qj0aSttB1j2e",
        "outputId": "6fc8a6d6-ada5-48a5-8b79-7ac2173d4afc"
      },
      "source": [
        "# check wallet balance\n",
        "terra.bank.balance(mk.acc_address)"
      ],
      "execution_count": 12,
      "outputs": [
        {
          "output_type": "execute_result",
          "data": {
            "text/plain": [
              "Coins('499425343uluna,2497574910uusd')"
            ]
          },
          "metadata": {
            "tags": []
          },
          "execution_count": 12
        }
      ]
    },
    {
      "cell_type": "code",
      "metadata": {
        "colab": {
          "base_uri": "https://localhost:8080/"
        },
        "id": "Rr1fVCxD1oHr",
        "outputId": "cddb4d4f-4e13-49ee-b8af-999ce3dfa3a6"
      },
      "source": [
        "# check wallet denominations\n",
        "terra.bank.balance(mk.acc_address).denoms()"
      ],
      "execution_count": 13,
      "outputs": [
        {
          "output_type": "execute_result",
          "data": {
            "text/plain": [
              "['uluna', 'uusd']"
            ]
          },
          "metadata": {
            "tags": []
          },
          "execution_count": 13
        }
      ]
    },
    {
      "cell_type": "code",
      "metadata": {
        "colab": {
          "base_uri": "https://localhost:8080/"
        },
        "id": "1ee30TzC2LI8",
        "outputId": "f4128e12-f72b-4f52-925d-be7924832c2b"
      },
      "source": [
        "# wallet balance of luna\n",
        "terra.bank.balance(mk.acc_address)['uluna']"
      ],
      "execution_count": 14,
      "outputs": [
        {
          "output_type": "execute_result",
          "data": {
            "text/plain": [
              "Coin(denom='uluna', amount=499425343)"
            ]
          },
          "metadata": {
            "tags": []
          },
          "execution_count": 14
        }
      ]
    },
    {
      "cell_type": "code",
      "metadata": {
        "colab": {
          "base_uri": "https://localhost:8080/"
        },
        "id": "UkZAYIUD2QUU",
        "outputId": "6aca2c57-7f6f-41dd-cc45-d93bd9738e8b"
      },
      "source": [
        "# wallet value of luna\n",
        "terra.bank.balance(mk.acc_address)['uluna'].amount"
      ],
      "execution_count": 15,
      "outputs": [
        {
          "output_type": "execute_result",
          "data": {
            "text/plain": [
              "499425343"
            ]
          },
          "metadata": {
            "tags": []
          },
          "execution_count": 15
        }
      ]
    },
    {
      "cell_type": "markdown",
      "metadata": {
        "id": "gYlyHohV2tvW"
      },
      "source": [
        "## Sending Transactions\n",
        "\n",
        "To transfer between native Terra assets, use `MsgSend` from the `Bank` module."
      ]
    },
    {
      "cell_type": "code",
      "metadata": {
        "id": "ZHiC0JNB2m4k"
      },
      "source": [
        "# import `MsgSend` module\n",
        "from terra_sdk.core.bank import MsgSend"
      ],
      "execution_count": 16,
      "outputs": []
    },
    {
      "cell_type": "code",
      "metadata": {
        "colab": {
          "base_uri": "https://localhost:8080/"
        },
        "id": "iNj9mRoO2-sQ",
        "outputId": "1ba74116-0b80-4c30-cf29-5da2c9bd7324"
      },
      "source": [
        "# create a message sending half of all coins\n",
        "send = MsgSend(mk.acc_address, mk2.acc_address, terra.bank.balance(mk.acc_address)/2)\n",
        "send"
      ],
      "execution_count": 17,
      "outputs": [
        {
          "output_type": "execute_result",
          "data": {
            "text/plain": [
              "MsgSend(from_address='terra1la8v6shy3gaumtqwj94g54nsedpa26yxmfdfzx', to_address='terra1x5tcalqz444k6ahjjv0nkkc3pk9sv6fzfgscp4', amount=Coins('249712671uluna,1248787455uusd'))"
            ]
          },
          "metadata": {
            "tags": []
          },
          "execution_count": 17
        }
      ]
    },
    {
      "cell_type": "code",
      "metadata": {
        "id": "I5dm6OKt3MWg"
      },
      "source": [
        "# create a wallet from the mnemonic key\n",
        "wallet = terra.wallet(mk)"
      ],
      "execution_count": 18,
      "outputs": []
    },
    {
      "cell_type": "code",
      "metadata": {
        "colab": {
          "base_uri": "https://localhost:8080/"
        },
        "id": "EbQ5pS2Q3Z-O",
        "outputId": "d32a585d-4f8e-4ddc-e506-397945dc1dcb"
      },
      "source": [
        "# create and sign a send msg\n",
        "tx = wallet.create_and_sign_tx(\n",
        "    msgs=[send],\n",
        "    memo='Hello There!',\n",
        "    gas_prices='2uluna',\n",
        "    gas_adjustment='1.5',\n",
        "    fee_denoms=['uluna', 'uusd']\n",
        "    )\n",
        "tx"
      ],
      "execution_count": 19,
      "outputs": [
        {
          "output_type": "execute_result",
          "data": {
            "text/plain": [
              "StdTx(msg=[MsgSend(from_address='terra1la8v6shy3gaumtqwj94g54nsedpa26yxmfdfzx', to_address='terra1x5tcalqz444k6ahjjv0nkkc3pk9sv6fzfgscp4', amount=Coins('249712671uluna,1248787455uusd'))], fee=StdFee(gas=107536, amount=Coins('215072uluna,1425090uusd')), signatures=[StdSignature(signature='dnPsetRRb4YQI0gGidfxSomnYEz0FeAjwfsXxsrEIfYWHbNwKdhC1oVojzrZEBJVSKwwfwOjtamz/p8zK+Tt9A==', pub_key=PublicKey(type='tendermint/PubKeySecp256k1', value='A1Qh3vrRBgq46YITAxUX1oI9SzAKUrmLidbIxWmOSea0'))], memo='Hello There!')"
            ]
          },
          "metadata": {
            "tags": []
          },
          "execution_count": 19
        }
      ]
    },
    {
      "cell_type": "code",
      "metadata": {
        "id": "w17D5L6A3fvb"
      },
      "source": [
        "# broadcast transaction\n",
        "result = terra.tx.broadcast(tx)"
      ],
      "execution_count": 20,
      "outputs": []
    },
    {
      "cell_type": "code",
      "metadata": {
        "colab": {
          "base_uri": "https://localhost:8080/"
        },
        "id": "1MHFkBBj4Sxe",
        "outputId": "3226afbd-c791-4225-9002-fc3a9d77b64c"
      },
      "source": [
        "# result of broadcast\n",
        "result"
      ],
      "execution_count": 21,
      "outputs": [
        {
          "output_type": "execute_result",
          "data": {
            "text/plain": [
              "BlockTxBroadcastResult(height=5175513, txhash='77B9BAA84B43DFA5BF136BCD672E5B14C9FC4D725BB7F635BEDFD235F6B7529D', raw_log='[{\"msg_index\":0,\"log\":\"\",\"events\":[{\"type\":\"message\",\"attributes\":[{\"key\":\"action\",\"value\":\"send\"},{\"key\":\"sender\",\"value\":\"terra1la8v6shy3gaumtqwj94g54nsedpa26yxmfdfzx\"},{\"key\":\"module\",\"value\":\"bank\"}]},{\"type\":\"transfer\",\"attributes\":[{\"key\":\"recipient\",\"value\":\"terra1x5tcalqz444k6ahjjv0nkkc3pk9sv6fzfgscp4\"},{\"key\":\"sender\",\"value\":\"terra1la8v6shy3gaumtqwj94g54nsedpa26yxmfdfzx\"},{\"key\":\"amount\",\"value\":\"249712671uluna,1248787455uusd\"}]}]}]', gas_wanted=107536, gas_used=78723, logs=[TxLog(msg_index=0, log='', events=[{'type': 'message', 'attributes': [{'key': 'action', 'value': 'send'}, {'key': 'sender', 'value': 'terra1la8v6shy3gaumtqwj94g54nsedpa26yxmfdfzx'}, {'key': 'module', 'value': 'bank'}]}, {'type': 'transfer', 'attributes': [{'key': 'recipient', 'value': 'terra1x5tcalqz444k6ahjjv0nkkc3pk9sv6fzfgscp4'}, {'key': 'sender', 'value': 'terra1la8v6shy3gaumtqwj94g54nsedpa26yxmfdfzx'}, {'key': 'amount', 'value': '249712671uluna,1248787455uusd'}]}], events_by_type={'message': {'action': ['send'], 'sender': ['terra1la8v6shy3gaumtqwj94g54nsedpa26yxmfdfzx'], 'module': ['bank']}, 'transfer': {'recipient': ['terra1x5tcalqz444k6ahjjv0nkkc3pk9sv6fzfgscp4'], 'sender': ['terra1la8v6shy3gaumtqwj94g54nsedpa26yxmfdfzx'], 'amount': ['249712671uluna,1248787455uusd']}})], code=None, codespace=None)"
            ]
          },
          "metadata": {
            "tags": []
          },
          "execution_count": 21
        }
      ]
    },
    {
      "cell_type": "code",
      "metadata": {
        "id": "YoxHrgJq4Tpq",
        "colab": {
          "base_uri": "https://localhost:8080/",
          "height": 35
        },
        "outputId": "66df94ca-f2d0-49fc-e8b5-fded21bc75e7"
      },
      "source": [
        " # result transaction hash\n",
        " result.txhash"
      ],
      "execution_count": 22,
      "outputs": [
        {
          "output_type": "execute_result",
          "data": {
            "application/vnd.google.colaboratory.intrinsic+json": {
              "type": "string"
            },
            "text/plain": [
              "'77B9BAA84B43DFA5BF136BCD672E5B14C9FC4D725BB7F635BEDFD235F6B7529D'"
            ]
          },
          "metadata": {
            "tags": []
          },
          "execution_count": 22
        }
      ]
    },
    {
      "cell_type": "code",
      "metadata": {
        "colab": {
          "base_uri": "https://localhost:8080/"
        },
        "id": "rYroxFNHfwQi",
        "outputId": "8f186304-b3f8-4a28-9187-6d8d258a87f2"
      },
      "source": [
        "# click here to view transaction\n",
        "print(f'https://finder.terra.money/tequila-0004/tx/{result.txhash}')"
      ],
      "execution_count": 23,
      "outputs": [
        {
          "output_type": "stream",
          "text": [
            "https://finder.terra.money/tequila-0004/tx/77B9BAA84B43DFA5BF136BCD672E5B14C9FC4D725BB7F635BEDFD235F6B7529D\n"
          ],
          "name": "stdout"
        }
      ]
    },
    {
      "cell_type": "markdown",
      "metadata": {
        "id": "2jH2u_KwZd5C"
      },
      "source": [
        "# Swap\n",
        "To swap between two coins, use the `MsgSwap` module."
      ]
    },
    {
      "cell_type": "code",
      "metadata": {
        "id": "3X4hh6rtZGBy"
      },
      "source": [
        "# import the MsgSwap module\n",
        "from terra_sdk.core.market import MsgSwap"
      ],
      "execution_count": 24,
      "outputs": []
    },
    {
      "cell_type": "code",
      "metadata": {
        "id": "rdoDc733bH-R"
      },
      "source": [
        "# message swap of 1 UST for luna\n",
        "swap = MsgSwap(mk.acc_address, '1000000uusd', 'uluna')"
      ],
      "execution_count": 25,
      "outputs": []
    },
    {
      "cell_type": "code",
      "metadata": {
        "colab": {
          "base_uri": "https://localhost:8080/"
        },
        "id": "XYb95qB3bJRv",
        "outputId": "4bd0f48a-96f5-40d1-87ef-f32b6de8bba8"
      },
      "source": [
        "# create and sign swap message\n",
        "tx = wallet.create_and_sign_tx(\n",
        "    msgs=[swap],\n",
        "    gas_prices='2uluna',\n",
        "    gas_adjustment='1.5',\n",
        "    fee_denoms=['uluna', 'uusd']\n",
        "    )\n",
        "tx"
      ],
      "execution_count": 26,
      "outputs": [
        {
          "output_type": "execute_result",
          "data": {
            "text/plain": [
              "StdTx(msg=[MsgSwap(trader='terra1la8v6shy3gaumtqwj94g54nsedpa26yxmfdfzx', offer_coin=Coin(denom='uusd', amount=1000000), ask_denom='uluna')], fee=StdFee(gas=216454, amount=Coins('432908uluna')), signatures=[StdSignature(signature='7uyX1kMNl1xGChcPh0qG7WrCNGpq9/FXjtOok+vG4PsmnXXDlXPqjr1a2sq0IvtiT8JOS7KIFpEMkV6tiC/AVg==', pub_key=PublicKey(type='tendermint/PubKeySecp256k1', value='A1Qh3vrRBgq46YITAxUX1oI9SzAKUrmLidbIxWmOSea0'))], memo='')"
            ]
          },
          "metadata": {
            "tags": []
          },
          "execution_count": 26
        }
      ]
    },
    {
      "cell_type": "code",
      "metadata": {
        "colab": {
          "base_uri": "https://localhost:8080/"
        },
        "id": "WO5jTR2ubXFE",
        "outputId": "a6037627-db78-4af6-db4d-882af1fc01b8"
      },
      "source": [
        "# broadcast transaction\n",
        "result = terra.tx.broadcast(tx)\n",
        "result"
      ],
      "execution_count": 27,
      "outputs": [
        {
          "output_type": "execute_result",
          "data": {
            "text/plain": [
              "BlockTxBroadcastResult(height=5175517, txhash='764256A6C018260FC3F4D08ECD927C178AF5680AA8C757E4FC9AEF34E9D6C2AF', raw_log='[{\"msg_index\":0,\"log\":\"\",\"events\":[{\"type\":\"message\",\"attributes\":[{\"key\":\"action\",\"value\":\"swap\"},{\"key\":\"sender\",\"value\":\"terra1la8v6shy3gaumtqwj94g54nsedpa26yxmfdfzx\"},{\"key\":\"sender\",\"value\":\"terra1untf85jwv3kt0puyyc39myxjvplagr3wstgs5s\"},{\"key\":\"module\",\"value\":\"market\"}]},{\"type\":\"swap\",\"attributes\":[{\"key\":\"offer\",\"value\":\"1000000uusd\"},{\"key\":\"trader\",\"value\":\"terra1la8v6shy3gaumtqwj94g54nsedpa26yxmfdfzx\"},{\"key\":\"recipient\",\"value\":\"terra1la8v6shy3gaumtqwj94g54nsedpa26yxmfdfzx\"},{\"key\":\"swap_coin\",\"value\":\"84622uluna\"},{\"key\":\"swap_fee\",\"value\":\"426.167311754411850275uluna\"}]},{\"type\":\"transfer\",\"attributes\":[{\"key\":\"recipient\",\"value\":\"terra1untf85jwv3kt0puyyc39myxjvplagr3wstgs5s\"},{\"key\":\"sender\",\"value\":\"terra1la8v6shy3gaumtqwj94g54nsedpa26yxmfdfzx\"},{\"key\":\"amount\",\"value\":\"1000000uusd\"},{\"key\":\"recipient\",\"value\":\"terra1la8v6shy3gaumtqwj94g54nsedpa26yxmfdfzx\"},{\"key\":\"sender\",\"value\":\"terra1untf85jwv3kt0puyyc39myxjvplagr3wstgs5s\"},{\"key\":\"amount\",\"value\":\"84622uluna\"}]}]}]', gas_wanted=216454, gas_used=142530, logs=[TxLog(msg_index=0, log='', events=[{'type': 'message', 'attributes': [{'key': 'action', 'value': 'swap'}, {'key': 'sender', 'value': 'terra1la8v6shy3gaumtqwj94g54nsedpa26yxmfdfzx'}, {'key': 'sender', 'value': 'terra1untf85jwv3kt0puyyc39myxjvplagr3wstgs5s'}, {'key': 'module', 'value': 'market'}]}, {'type': 'swap', 'attributes': [{'key': 'offer', 'value': '1000000uusd'}, {'key': 'trader', 'value': 'terra1la8v6shy3gaumtqwj94g54nsedpa26yxmfdfzx'}, {'key': 'recipient', 'value': 'terra1la8v6shy3gaumtqwj94g54nsedpa26yxmfdfzx'}, {'key': 'swap_coin', 'value': '84622uluna'}, {'key': 'swap_fee', 'value': '426.167311754411850275uluna'}]}, {'type': 'transfer', 'attributes': [{'key': 'recipient', 'value': 'terra1untf85jwv3kt0puyyc39myxjvplagr3wstgs5s'}, {'key': 'sender', 'value': 'terra1la8v6shy3gaumtqwj94g54nsedpa26yxmfdfzx'}, {'key': 'amount', 'value': '1000000uusd'}, {'key': 'recipient', 'value': 'terra1la8v6shy3gaumtqwj94g54nsedpa26yxmfdfzx'}, {'key': 'sender', 'value': 'terra1untf85jwv3kt0puyyc39myxjvplagr3wstgs5s'}, {'key': 'amount', 'value': '84622uluna'}]}], events_by_type={'message': {'action': ['swap'], 'sender': ['terra1la8v6shy3gaumtqwj94g54nsedpa26yxmfdfzx', 'terra1untf85jwv3kt0puyyc39myxjvplagr3wstgs5s'], 'module': ['market']}, 'swap': {'offer': ['1000000uusd'], 'trader': ['terra1la8v6shy3gaumtqwj94g54nsedpa26yxmfdfzx'], 'recipient': ['terra1la8v6shy3gaumtqwj94g54nsedpa26yxmfdfzx'], 'swap_coin': ['84622uluna'], 'swap_fee': ['426.167311754411850275uluna']}, 'transfer': {'recipient': ['terra1untf85jwv3kt0puyyc39myxjvplagr3wstgs5s', 'terra1la8v6shy3gaumtqwj94g54nsedpa26yxmfdfzx'], 'sender': ['terra1la8v6shy3gaumtqwj94g54nsedpa26yxmfdfzx', 'terra1untf85jwv3kt0puyyc39myxjvplagr3wstgs5s'], 'amount': ['1000000uusd', '84622uluna']}})], code=None, codespace=None)"
            ]
          },
          "metadata": {
            "tags": []
          },
          "execution_count": 27
        }
      ]
    },
    {
      "cell_type": "code",
      "metadata": {
        "colab": {
          "base_uri": "https://localhost:8080/"
        },
        "id": "BJFF2othbiW6",
        "outputId": "f7156a9e-adcc-4bd7-8f3c-cbd6f1409033"
      },
      "source": [
        "# click here to view transaction\n",
        "print(f'https://finder.terra.money/tequila-0004/tx/{result.txhash}')"
      ],
      "execution_count": 28,
      "outputs": [
        {
          "output_type": "stream",
          "text": [
            "https://finder.terra.money/tequila-0004/tx/764256A6C018260FC3F4D08ECD927C178AF5680AA8C757E4FC9AEF34E9D6C2AF\n"
          ],
          "name": "stdout"
        }
      ]
    },
    {
      "cell_type": "code",
      "metadata": {
        "id": "dhAJnZbqg1dn"
      },
      "source": [
        ""
      ],
      "execution_count": null,
      "outputs": []
    }
  ]
}
