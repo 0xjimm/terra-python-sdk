{
  "nbformat": 4,
  "nbformat_minor": 0,
  "metadata": {
    "colab": {
      "name": "Terra SDK Tutorial - 2.ipynb",
      "provenance": [],
      "collapsed_sections": [],
      "authorship_tag": "ABX9TyM0CYS0LFsR926bOUIiSxmu",
      "include_colab_link": true
    },
    "kernelspec": {
      "name": "python3",
      "display_name": "Python 3"
    },
    "language_info": {
      "name": "python"
    }
  },
  "cells": [
    {
      "cell_type": "markdown",
      "metadata": {
        "id": "view-in-github",
        "colab_type": "text"
      },
      "source": [
        "<a href=\"https://colab.research.google.com/github/lejimmy/terra-python-sdk/blob/main/notebooks/Terra_SDK_Tutorial_2.ipynb\" target=\"_parent\"><img src=\"https://colab.research.google.com/assets/colab-badge.svg\" alt=\"Open In Colab\"/></a>"
      ]
    },
    {
      "cell_type": "markdown",
      "metadata": {
        "id": "ciL04jbTED0N"
      },
      "source": [
        "# Creating a Luna to bLuna Arbitrager\n",
        "\n",
        "In this notebook, we will create a simple Luna to bLuna arbitrager on the testnet.\n",
        "\n",
        "Once you're comfortable with how the mechanics work, you can connect to the mainnet.\n",
        "\n",
        "Remember to point your wallet and contract addresseses to the mainnet contracts."
      ]
    },
    {
      "cell_type": "markdown",
      "metadata": {
        "id": "Q9uRtcKwEt0L"
      },
      "source": [
        "## Install Python Terra SDK\n",
        "\n",
        "We can install the Terra SDK for Python via the `pip` package manager."
      ]
    },
    {
      "cell_type": "code",
      "metadata": {
        "colab": {
          "base_uri": "https://localhost:8080/"
        },
        "id": "BBuucGo6LeLy",
        "outputId": "0edb70bc-c4c2-4733-f98a-1d05e9c6a7a9"
      },
      "source": [
        "# install terra sdk for python\n",
        "!pip install terra-sdk"
      ],
      "execution_count": 1,
      "outputs": [
        {
          "output_type": "stream",
          "text": [
            "Collecting terra-sdk\n",
            "  Downloading terra_sdk-0.14.0-py3-none-any.whl (68 kB)\n",
            "\u001b[?25l\r\u001b[K     |████▊                           | 10 kB 23.1 MB/s eta 0:00:01\r\u001b[K     |█████████▌                      | 20 kB 24.8 MB/s eta 0:00:01\r\u001b[K     |██████████████▎                 | 30 kB 17.6 MB/s eta 0:00:01\r\u001b[K     |███████████████████             | 40 kB 12.1 MB/s eta 0:00:01\r\u001b[K     |███████████████████████▉        | 51 kB 5.4 MB/s eta 0:00:01\r\u001b[K     |████████████████████████████▋   | 61 kB 5.6 MB/s eta 0:00:01\r\u001b[K     |████████████████████████████████| 68 kB 2.9 MB/s \n",
            "\u001b[?25hCollecting bech32<2.0.0,>=1.2.0\n",
            "  Downloading bech32-1.2.0-py3-none-any.whl (4.6 kB)\n",
            "Collecting bip32utils<0.4,>=0.3.post4\n",
            "  Downloading bip32utils-0.3.post4-py3-none-any.whl (9.9 kB)\n",
            "Collecting aiohttp<4.0.0,>=3.7.3\n",
            "  Downloading aiohttp-3.7.4.post0-cp37-cp37m-manylinux2014_x86_64.whl (1.3 MB)\n",
            "\u001b[K     |████████████████████████████████| 1.3 MB 27.2 MB/s \n",
            "\u001b[?25hRequirement already satisfied: nest-asyncio<2.0.0,>=1.5.1 in /usr/local/lib/python3.7/dist-packages (from terra-sdk) (1.5.1)\n",
            "Requirement already satisfied: wrapt<2.0.0,>=1.12.1 in /usr/local/lib/python3.7/dist-packages (from terra-sdk) (1.12.1)\n",
            "Collecting attrs<21.0.0,>=20.3.0\n",
            "  Downloading attrs-20.3.0-py2.py3-none-any.whl (49 kB)\n",
            "\u001b[K     |████████████████████████████████| 49 kB 4.1 MB/s \n",
            "\u001b[?25hCollecting mnemonic<0.20,>=0.19\n",
            "  Downloading mnemonic-0.19-py2.py3-none-any.whl (61 kB)\n",
            "\u001b[K     |████████████████████████████████| 61 kB 5.0 MB/s \n",
            "\u001b[?25hCollecting ecdsa<0.17.0,>=0.16.1\n",
            "  Downloading ecdsa-0.16.1-py2.py3-none-any.whl (104 kB)\n",
            "\u001b[K     |████████████████████████████████| 104 kB 39.2 MB/s \n",
            "\u001b[?25hCollecting async-timeout<4.0,>=3.0\n",
            "  Downloading async_timeout-3.0.1-py3-none-any.whl (8.2 kB)\n",
            "Collecting multidict<7.0,>=4.5\n",
            "  Downloading multidict-5.1.0-cp37-cp37m-manylinux2014_x86_64.whl (142 kB)\n",
            "\u001b[K     |████████████████████████████████| 142 kB 48.5 MB/s \n",
            "\u001b[?25hCollecting yarl<2.0,>=1.0\n",
            "  Downloading yarl-1.6.3-cp37-cp37m-manylinux2014_x86_64.whl (294 kB)\n",
            "\u001b[K     |████████████████████████████████| 294 kB 45.7 MB/s \n",
            "\u001b[?25hRequirement already satisfied: typing-extensions>=3.6.5 in /usr/local/lib/python3.7/dist-packages (from aiohttp<4.0.0,>=3.7.3->terra-sdk) (3.7.4.3)\n",
            "Requirement already satisfied: chardet<5.0,>=2.0 in /usr/local/lib/python3.7/dist-packages (from aiohttp<4.0.0,>=3.7.3->terra-sdk) (3.0.4)\n",
            "Requirement already satisfied: six>=1.9.0 in /usr/local/lib/python3.7/dist-packages (from ecdsa<0.17.0,>=0.16.1->terra-sdk) (1.15.0)\n",
            "Requirement already satisfied: idna>=2.0 in /usr/local/lib/python3.7/dist-packages (from yarl<2.0,>=1.0->aiohttp<4.0.0,>=3.7.3->terra-sdk) (2.10)\n",
            "Installing collected packages: multidict, yarl, ecdsa, attrs, async-timeout, mnemonic, bip32utils, bech32, aiohttp, terra-sdk\n",
            "  Attempting uninstall: attrs\n",
            "    Found existing installation: attrs 21.2.0\n",
            "    Uninstalling attrs-21.2.0:\n",
            "      Successfully uninstalled attrs-21.2.0\n",
            "\u001b[31mERROR: pip's dependency resolver does not currently take into account all the packages that are installed. This behaviour is the source of the following dependency conflicts.\n",
            "datascience 0.10.6 requires folium==0.2.1, but you have folium 0.8.3 which is incompatible.\u001b[0m\n",
            "Successfully installed aiohttp-3.7.4.post0 async-timeout-3.0.1 attrs-20.3.0 bech32-1.2.0 bip32utils-0.3.post4 ecdsa-0.16.1 mnemonic-0.19 multidict-5.1.0 terra-sdk-0.14.0 yarl-1.6.3\n"
          ],
          "name": "stdout"
        }
      ]
    },
    {
      "cell_type": "markdown",
      "metadata": {
        "id": "UUS9KZBdFFtI"
      },
      "source": [
        "Next, we will import the modules needed for our project. "
      ]
    },
    {
      "cell_type": "code",
      "metadata": {
        "id": "Wmmn9NNtLiTs"
      },
      "source": [
        "# import the Terra Python SDK modules\n",
        "from terra_sdk.client.lcd import LCDClient\n",
        "from terra_sdk.core.auth import StdFee\n",
        "from terra_sdk.core.coins import Coins\n",
        "from terra_sdk.key.mnemonic import MnemonicKey\n",
        "from terra_sdk.core.wasm.msgs import dict_to_b64\n",
        "from terra_sdk.core.wasm.msgs import MsgExecuteContract"
      ],
      "execution_count": 2,
      "outputs": []
    },
    {
      "cell_type": "markdown",
      "metadata": {
        "id": "4sGbeEmjH-Tl"
      },
      "source": [
        "## Connect to a Terra Node\n",
        "In this section, we will connect to the `tequila-0004` test node and create a wallet."
      ]
    },
    {
      "cell_type": "code",
      "metadata": {
        "id": "aNT2EX6DLj12"
      },
      "source": [
        "# connect to test net node by specifying the url and chain-id\n",
        "terra = LCDClient('https://tequila-lcd.terra.dev', 'tequila-0004')"
      ],
      "execution_count": 3,
      "outputs": []
    },
    {
      "cell_type": "code",
      "metadata": {
        "id": "gXLXV8JpLohi"
      },
      "source": [
        "# recover an existing wallet\n",
        "mk = MnemonicKey(mnemonic='secret globe hint gather move evil monster column disorder burden couple odor salad holiday small float endorse alley escape veteran cruel cross web during')"
      ],
      "execution_count": 4,
      "outputs": []
    },
    {
      "cell_type": "code",
      "metadata": {
        "colab": {
          "base_uri": "https://localhost:8080/",
          "height": 35
        },
        "id": "223rD_lVTGOP",
        "outputId": "e998f10a-83de-48e3-a9ed-f528aedcb2df"
      },
      "source": [
        "# view wallet address\n",
        "mk.acc_address"
      ],
      "execution_count": 5,
      "outputs": [
        {
          "output_type": "execute_result",
          "data": {
            "application/vnd.google.colaboratory.intrinsic+json": {
              "type": "string"
            },
            "text/plain": [
              "'terra1la8v6shy3gaumtqwj94g54nsedpa26yxmfdfzx'"
            ]
          },
          "metadata": {},
          "execution_count": 5
        }
      ]
    },
    {
      "cell_type": "code",
      "metadata": {
        "id": "F-TvDdd0LuPq"
      },
      "source": [
        "# create a wallet from the mnemonic key\n",
        "wallet = terra.wallet(mk)"
      ],
      "execution_count": 6,
      "outputs": []
    },
    {
      "cell_type": "markdown",
      "metadata": {
        "id": "zYGbZYE6IP_Q"
      },
      "source": [
        "## Contract Addresses\n",
        "The first contract address is for the Terraswap bLuna-Luna pair.\n",
        "\n",
        "Since bLuna is not a native token, we will also need the contract address of the bLuna contract address when swapping back to Luna."
      ]
    },
    {
      "cell_type": "code",
      "metadata": {
        "id": "kpDtxbjWMSU6"
      },
      "source": [
        "# terraswapblunaLunaPair address\n",
        "\n",
        "# testnet \n",
        "bluna_luna_pair_address = 'terra13e4jmcjnwrauvl2fnjdwex0exuzd8zrh5xk29v'\n",
        "\n",
        "# mainnet \n",
        "# contract = 'terra1jxazgm67et0ce260kvrpfv50acuushpjsz2y0p'"
      ],
      "execution_count": 7,
      "outputs": []
    },
    {
      "cell_type": "code",
      "metadata": {
        "id": "2xk3vgBdCMuq"
      },
      "source": [
        "# bluna contract addresses\n",
        "\n",
        "# testnet\n",
        "bluna_contract = 'terra1u0t35drzyy0mujj8rkdyzhe264uls4ug3wdp3x'\n",
        "\n",
        "# mainnet\n",
        "# bluna_contract = 'terra1kc87mu460fwkqte29rquh4hc20m54fxwtsx7gp'"
      ],
      "execution_count": 8,
      "outputs": []
    },
    {
      "cell_type": "code",
      "metadata": {
        "id": "_otUPKbBD1_Z"
      },
      "source": [
        "# swap amount in luna\n",
        "swap_amount = 10"
      ],
      "execution_count": null,
      "outputs": []
    },
    {
      "cell_type": "code",
      "metadata": {
        "id": "DzR8ih1uPlsW"
      },
      "source": [
        "# convert swap_amount to uluna\n",
        "swap_amount = swap * 1000000"
      ],
      "execution_count": null,
      "outputs": []
    },
    {
      "cell_type": "markdown",
      "metadata": {
        "id": "fwV-b86GLfWL"
      },
      "source": [
        "## Query bLuna-Luna Pair\n",
        "Next, we'll query the contract to determine the current market price of the pair."
      ]
    },
    {
      "cell_type": "code",
      "metadata": {
        "id": "HPio-_beNPQI"
      },
      "source": [
        "# query bluna price\n",
        "query_msg = {'simulation': {'offer_asset': {'amount': str(swap_amount), 'info': {'native_token': {'denom': 'uluna'}}}}}"
      ],
      "execution_count": null,
      "outputs": []
    },
    {
      "cell_type": "code",
      "metadata": {
        "id": "BZGxFdg9NGoO",
        "colab": {
          "base_uri": "https://localhost:8080/"
        },
        "outputId": "de72268d-be55-4e31-cf9d-c6147d4ea385"
      },
      "source": [
        "# query results\n",
        "result = terra.wasm.contract_query(bluna_luna_pair_address, query_msg)\n",
        "result"
      ],
      "execution_count": null,
      "outputs": [
        {
          "output_type": "execute_result",
          "data": {
            "text/plain": [
              "{'commission_amount': '33684',\n",
              " 'return_amount': '11194488',\n",
              " 'spread_amount': '4417'}"
            ]
          },
          "metadata": {},
          "execution_count": 246
        }
      ]
    },
    {
      "cell_type": "code",
      "metadata": {
        "id": "vLWChChjNskQ",
        "colab": {
          "base_uri": "https://localhost:8080/"
        },
        "outputId": "c6f9a890-1033-47b8-c6bf-80b01a12bc77"
      },
      "source": [
        "# parse return amount\n",
        "return_amount = int(result['return_amount'])\n",
        "return_amount"
      ],
      "execution_count": null,
      "outputs": [
        {
          "output_type": "execute_result",
          "data": {
            "text/plain": [
              "11195463"
            ]
          },
          "metadata": {},
          "execution_count": 218
        }
      ]
    },
    {
      "cell_type": "code",
      "metadata": {
        "colab": {
          "base_uri": "https://localhost:8080/"
        },
        "id": "nknagQHxPJ6m",
        "outputId": "d1d1f96a-4ff7-4735-9c38-7c19955cdd1d"
      },
      "source": [
        "# belief price\n",
        "belief_price = return_amount / swap_amount\n",
        "belief_price"
      ],
      "execution_count": null,
      "outputs": [
        {
          "output_type": "execute_result",
          "data": {
            "text/plain": [
              "1.1195463"
            ]
          },
          "metadata": {},
          "execution_count": 247
        }
      ]
    },
    {
      "cell_type": "markdown",
      "metadata": {
        "id": "3w7vO5wiLv6_"
      },
      "source": [
        "For a 10 Luna swap, we expect to receive ~1.12 bLuna for each Luna. In otherwords, bLuna is trading at a 12% discount."
      ]
    },
    {
      "cell_type": "markdown",
      "metadata": {
        "id": "iTBGKk3_L-ni"
      },
      "source": [
        "## Execute Contract\n",
        "\n",
        "Next, we will create a function to execute a message contract, sign the transaction, and broadcast the transaction."
      ]
    },
    {
      "cell_type": "code",
      "metadata": {
        "id": "2L3KELHRVWwQ"
      },
      "source": [
        "def execute_contract(sender, contract_addr, execute_msg, coins=None):\n",
        "  execute = MsgExecuteContract(\n",
        "      sender=sender.key.acc_address,\n",
        "      contract=contract_addr,\n",
        "      execute_msg=execute_msg,\n",
        "      coins=coins\n",
        "  )\n",
        "\n",
        "  tx = sender.create_and_sign_tx(\n",
        "      msgs=[execute], fee=StdFee(1000000, Coins(uluna=1000000))\n",
        "  )\n",
        "\n",
        "  result = terra.tx.broadcast(tx)\n",
        "  return result"
      ],
      "execution_count": null,
      "outputs": []
    },
    {
      "cell_type": "markdown",
      "metadata": {
        "id": "fmi4bK1qMJTV"
      },
      "source": [
        "The following cells will send some amount of Luna from our wallet, to the Terraswap bLuna-Luna pair, sign the transaction, and broadcast the transaction."
      ]
    },
    {
      "cell_type": "code",
      "metadata": {
        "id": "oKkJXwdITPec"
      },
      "source": [
        "luna_to_bluna_msg = {\n",
        "  \"swap\": {\n",
        "    \"offer_asset\": {\n",
        "      \"info\": {\n",
        "        \"native_token\": {\n",
        "          \"denom\": \"uluna\"\n",
        "        }\n",
        "      },\n",
        "      \"amount\": str(swap_amount)\n",
        "    },\n",
        "    \"to\": mk.acc_address\n",
        "  }\n",
        "}"
      ],
      "execution_count": null,
      "outputs": []
    },
    {
      "cell_type": "code",
      "metadata": {
        "id": "cEylQCflRaOQ",
        "colab": {
          "base_uri": "https://localhost:8080/"
        },
        "outputId": "757f2422-ff3e-4650-9cbc-e396d7901e75"
      },
      "source": [
        "# swap luna to bluna\n",
        "result = execute_contract(wallet, bluna_luna_pair_address, luna_to_bluna_msg, Coins(uluna=swap_amount))\n",
        "result"
      ],
      "execution_count": null,
      "outputs": [
        {
          "output_type": "execute_result",
          "data": {
            "text/plain": [
              "BlockTxBroadcastResult(height=5501367, txhash='3A148BA3EEA54622716CA93FF5C81CC868937DBACFF1094F141954F233AB84C2', raw_log='[{\"msg_index\":0,\"log\":\"\",\"events\":[{\"type\":\"execute_contract\",\"attributes\":[{\"key\":\"sender\",\"value\":\"terra1u0t35drzyy0mujj8rkdyzhe264uls4ug3wdp3x\"},{\"key\":\"contract_address\",\"value\":\"terra1ac24j6pdxh53czqyrkr6ygphdeftg7u3958tl2\"},{\"key\":\"sender\",\"value\":\"terra1u0t35drzyy0mujj8rkdyzhe264uls4ug3wdp3x\"},{\"key\":\"contract_address\",\"value\":\"terra1ac24j6pdxh53czqyrkr6ygphdeftg7u3958tl2\"},{\"key\":\"sender\",\"value\":\"terra13e4jmcjnwrauvl2fnjdwex0exuzd8zrh5xk29v\"},{\"key\":\"contract_address\",\"value\":\"terra1u0t35drzyy0mujj8rkdyzhe264uls4ug3wdp3x\"},{\"key\":\"sender\",\"value\":\"terra1la8v6shy3gaumtqwj94g54nsedpa26yxmfdfzx\"},{\"key\":\"contract_address\",\"value\":\"terra13e4jmcjnwrauvl2fnjdwex0exuzd8zrh5xk29v\"}]},{\"type\":\"from_contract\",\"attributes\":[{\"key\":\"contract_address\",\"value\":\"terra13e4jmcjnwrauvl2fnjdwex0exuzd8zrh5xk29v\"},{\"key\":\"action\",\"value\":\"swap\"},{\"key\":\"offer_asset\",\"value\":\"uluna\"},{\"key\":\"ask_asset\",\"value\":\"terra1u0t35drzyy0mujj8rkdyzhe264uls4ug3wdp3x\"},{\"key\":\"offer_amount\",\"value\":\"10000000\"},{\"key\":\"return_amount\",\"value\":\"11194488\"},{\"key\":\"tax_amount\",\"value\":\"0\"},{\"key\":\"spread_amount\",\"value\":\"4417\"},{\"key\":\"commission_amount\",\"value\":\"33684\"},{\"key\":\"contract_address\",\"value\":\"terra1u0t35drzyy0mujj8rkdyzhe264uls4ug3wdp3x\"},{\"key\":\"action\",\"value\":\"transfer\"},{\"key\":\"from\",\"value\":\"terra13e4jmcjnwrauvl2fnjdwex0exuzd8zrh5xk29v\"},{\"key\":\"to\",\"value\":\"terra1la8v6shy3gaumtqwj94g54nsedpa26yxmfdfzx\"},{\"key\":\"amount\",\"value\":\"11194488\"},{\"key\":\"contract_address\",\"value\":\"terra1ac24j6pdxh53czqyrkr6ygphdeftg7u3958tl2\"},{\"key\":\"action\",\"value\":\"decrease_balance\"},{\"key\":\"holder_address\",\"value\":\"terra13e4jmcjnwrauvl2fnjdwex0exuzd8zrh5xk29v\"},{\"key\":\"amount\",\"value\":\"11194488\"},{\"key\":\"contract_address\",\"value\":\"terra1ac24j6pdxh53czqyrkr6ygphdeftg7u3958tl2\"},{\"key\":\"action\",\"value\":\"increase_balance\"},{\"key\":\"holder_address\",\"value\":\"terra1la8v6shy3gaumtqwj94g54nsedpa26yxmfdfzx\"},{\"key\":\"amount\",\"value\":\"11194488\"}]},{\"type\":\"message\",\"attributes\":[{\"key\":\"action\",\"value\":\"execute_contract\"},{\"key\":\"module\",\"value\":\"wasm\"},{\"key\":\"sender\",\"value\":\"terra1la8v6shy3gaumtqwj94g54nsedpa26yxmfdfzx\"}]},{\"type\":\"transfer\",\"attributes\":[{\"key\":\"recipient\",\"value\":\"terra13e4jmcjnwrauvl2fnjdwex0exuzd8zrh5xk29v\"},{\"key\":\"sender\",\"value\":\"terra1la8v6shy3gaumtqwj94g54nsedpa26yxmfdfzx\"},{\"key\":\"amount\",\"value\":\"10000000uluna\"}]}]}]', gas_wanted=1000000, gas_used=347608, logs=[TxLog(msg_index=0, log='', events=[{'type': 'execute_contract', 'attributes': [{'key': 'sender', 'value': 'terra1u0t35drzyy0mujj8rkdyzhe264uls4ug3wdp3x'}, {'key': 'contract_address', 'value': 'terra1ac24j6pdxh53czqyrkr6ygphdeftg7u3958tl2'}, {'key': 'sender', 'value': 'terra1u0t35drzyy0mujj8rkdyzhe264uls4ug3wdp3x'}, {'key': 'contract_address', 'value': 'terra1ac24j6pdxh53czqyrkr6ygphdeftg7u3958tl2'}, {'key': 'sender', 'value': 'terra13e4jmcjnwrauvl2fnjdwex0exuzd8zrh5xk29v'}, {'key': 'contract_address', 'value': 'terra1u0t35drzyy0mujj8rkdyzhe264uls4ug3wdp3x'}, {'key': 'sender', 'value': 'terra1la8v6shy3gaumtqwj94g54nsedpa26yxmfdfzx'}, {'key': 'contract_address', 'value': 'terra13e4jmcjnwrauvl2fnjdwex0exuzd8zrh5xk29v'}]}, {'type': 'from_contract', 'attributes': [{'key': 'contract_address', 'value': 'terra13e4jmcjnwrauvl2fnjdwex0exuzd8zrh5xk29v'}, {'key': 'action', 'value': 'swap'}, {'key': 'offer_asset', 'value': 'uluna'}, {'key': 'ask_asset', 'value': 'terra1u0t35drzyy0mujj8rkdyzhe264uls4ug3wdp3x'}, {'key': 'offer_amount', 'value': '10000000'}, {'key': 'return_amount', 'value': '11194488'}, {'key': 'tax_amount', 'value': '0'}, {'key': 'spread_amount', 'value': '4417'}, {'key': 'commission_amount', 'value': '33684'}, {'key': 'contract_address', 'value': 'terra1u0t35drzyy0mujj8rkdyzhe264uls4ug3wdp3x'}, {'key': 'action', 'value': 'transfer'}, {'key': 'from', 'value': 'terra13e4jmcjnwrauvl2fnjdwex0exuzd8zrh5xk29v'}, {'key': 'to', 'value': 'terra1la8v6shy3gaumtqwj94g54nsedpa26yxmfdfzx'}, {'key': 'amount', 'value': '11194488'}, {'key': 'contract_address', 'value': 'terra1ac24j6pdxh53czqyrkr6ygphdeftg7u3958tl2'}, {'key': 'action', 'value': 'decrease_balance'}, {'key': 'holder_address', 'value': 'terra13e4jmcjnwrauvl2fnjdwex0exuzd8zrh5xk29v'}, {'key': 'amount', 'value': '11194488'}, {'key': 'contract_address', 'value': 'terra1ac24j6pdxh53czqyrkr6ygphdeftg7u3958tl2'}, {'key': 'action', 'value': 'increase_balance'}, {'key': 'holder_address', 'value': 'terra1la8v6shy3gaumtqwj94g54nsedpa26yxmfdfzx'}, {'key': 'amount', 'value': '11194488'}]}, {'type': 'message', 'attributes': [{'key': 'action', 'value': 'execute_contract'}, {'key': 'module', 'value': 'wasm'}, {'key': 'sender', 'value': 'terra1la8v6shy3gaumtqwj94g54nsedpa26yxmfdfzx'}]}, {'type': 'transfer', 'attributes': [{'key': 'recipient', 'value': 'terra13e4jmcjnwrauvl2fnjdwex0exuzd8zrh5xk29v'}, {'key': 'sender', 'value': 'terra1la8v6shy3gaumtqwj94g54nsedpa26yxmfdfzx'}, {'key': 'amount', 'value': '10000000uluna'}]}], events_by_type={'execute_contract': {'sender': ['terra1u0t35drzyy0mujj8rkdyzhe264uls4ug3wdp3x', 'terra1u0t35drzyy0mujj8rkdyzhe264uls4ug3wdp3x', 'terra13e4jmcjnwrauvl2fnjdwex0exuzd8zrh5xk29v', 'terra1la8v6shy3gaumtqwj94g54nsedpa26yxmfdfzx'], 'contract_address': ['terra1ac24j6pdxh53czqyrkr6ygphdeftg7u3958tl2', 'terra1ac24j6pdxh53czqyrkr6ygphdeftg7u3958tl2', 'terra1u0t35drzyy0mujj8rkdyzhe264uls4ug3wdp3x', 'terra13e4jmcjnwrauvl2fnjdwex0exuzd8zrh5xk29v']}, 'from_contract': {'contract_address': ['terra13e4jmcjnwrauvl2fnjdwex0exuzd8zrh5xk29v', 'terra1u0t35drzyy0mujj8rkdyzhe264uls4ug3wdp3x', 'terra1ac24j6pdxh53czqyrkr6ygphdeftg7u3958tl2', 'terra1ac24j6pdxh53czqyrkr6ygphdeftg7u3958tl2'], 'action': ['swap', 'transfer', 'decrease_balance', 'increase_balance'], 'offer_asset': ['uluna'], 'ask_asset': ['terra1u0t35drzyy0mujj8rkdyzhe264uls4ug3wdp3x'], 'offer_amount': ['10000000'], 'return_amount': ['11194488'], 'tax_amount': ['0'], 'spread_amount': ['4417'], 'commission_amount': ['33684'], 'from': ['terra13e4jmcjnwrauvl2fnjdwex0exuzd8zrh5xk29v'], 'to': ['terra1la8v6shy3gaumtqwj94g54nsedpa26yxmfdfzx'], 'amount': ['11194488', '11194488', '11194488'], 'holder_address': ['terra13e4jmcjnwrauvl2fnjdwex0exuzd8zrh5xk29v', 'terra1la8v6shy3gaumtqwj94g54nsedpa26yxmfdfzx']}, 'message': {'action': ['execute_contract'], 'module': ['wasm'], 'sender': ['terra1la8v6shy3gaumtqwj94g54nsedpa26yxmfdfzx']}, 'transfer': {'recipient': ['terra13e4jmcjnwrauvl2fnjdwex0exuzd8zrh5xk29v'], 'sender': ['terra1la8v6shy3gaumtqwj94g54nsedpa26yxmfdfzx'], 'amount': ['10000000uluna']}})], code=None, codespace=None)"
            ]
          },
          "metadata": {},
          "execution_count": 248
        }
      ]
    },
    {
      "cell_type": "markdown",
      "metadata": {
        "id": "-ZDyXIpIMfzk"
      },
      "source": [
        "To reverse the swap, we will send some amount of bLuna to the Terraswap bLuna-Luna pair, and set a belief price for the swap."
      ]
    },
    {
      "cell_type": "code",
      "metadata": {
        "id": "5ctbv3Jm3W02"
      },
      "source": [
        "bluna_to_luna_msg = {\n",
        "  \"send\": {\n",
        "    \"contract\": \"terra13e4jmcjnwrauvl2fnjdwex0exuzd8zrh5xk29v\",\n",
        "    \"amount\": str(swap_amount),\n",
        "    \"msg\": dict_to_b64({\n",
        "      \"swap\": {\n",
        "        \"belief_price\": str(belief_price),\n",
        "        \"max_spread\": \"0.1\"\n",
        "      }\n",
        "    })\n",
        "  }\n",
        "}"
      ],
      "execution_count": null,
      "outputs": []
    },
    {
      "cell_type": "code",
      "metadata": {
        "id": "BCS0w2BFWWjn",
        "colab": {
          "base_uri": "https://localhost:8080/"
        },
        "outputId": "305206cb-b155-44db-e239-3d234fb45935"
      },
      "source": [
        "# swap bluna to luna\n",
        "result_luna_to_bluna = execute_contract(wallet, bluna_contract, bluna_to_luna_msg)\n",
        "result_luna_to_bluna"
      ],
      "execution_count": null,
      "outputs": [
        {
          "output_type": "execute_result",
          "data": {
            "text/plain": [
              "BlockTxBroadcastResult(height=5501369, txhash='D00F6A00BB5977DC0C2C6C0C5A12907C6008628DDC92F030806A649190AF36C5', raw_log='[{\"msg_index\":0,\"log\":\"\",\"events\":[{\"type\":\"execute_contract\",\"attributes\":[{\"key\":\"sender\",\"value\":\"terra1u0t35drzyy0mujj8rkdyzhe264uls4ug3wdp3x\"},{\"key\":\"contract_address\",\"value\":\"terra1ac24j6pdxh53czqyrkr6ygphdeftg7u3958tl2\"},{\"key\":\"sender\",\"value\":\"terra1u0t35drzyy0mujj8rkdyzhe264uls4ug3wdp3x\"},{\"key\":\"contract_address\",\"value\":\"terra1ac24j6pdxh53czqyrkr6ygphdeftg7u3958tl2\"},{\"key\":\"sender\",\"value\":\"terra1u0t35drzyy0mujj8rkdyzhe264uls4ug3wdp3x\"},{\"key\":\"contract_address\",\"value\":\"terra13e4jmcjnwrauvl2fnjdwex0exuzd8zrh5xk29v\"},{\"key\":\"sender\",\"value\":\"terra1la8v6shy3gaumtqwj94g54nsedpa26yxmfdfzx\"},{\"key\":\"contract_address\",\"value\":\"terra1u0t35drzyy0mujj8rkdyzhe264uls4ug3wdp3x\"}]},{\"type\":\"from_contract\",\"attributes\":[{\"key\":\"contract_address\",\"value\":\"terra1u0t35drzyy0mujj8rkdyzhe264uls4ug3wdp3x\"},{\"key\":\"action\",\"value\":\"send\"},{\"key\":\"from\",\"value\":\"terra1la8v6shy3gaumtqwj94g54nsedpa26yxmfdfzx\"},{\"key\":\"to\",\"value\":\"terra13e4jmcjnwrauvl2fnjdwex0exuzd8zrh5xk29v\"},{\"key\":\"amount\",\"value\":\"10000000\"},{\"key\":\"contract_address\",\"value\":\"terra1ac24j6pdxh53czqyrkr6ygphdeftg7u3958tl2\"},{\"key\":\"action\",\"value\":\"decrease_balance\"},{\"key\":\"holder_address\",\"value\":\"terra1la8v6shy3gaumtqwj94g54nsedpa26yxmfdfzx\"},{\"key\":\"amount\",\"value\":\"10000000\"},{\"key\":\"contract_address\",\"value\":\"terra1ac24j6pdxh53czqyrkr6ygphdeftg7u3958tl2\"},{\"key\":\"action\",\"value\":\"increase_balance\"},{\"key\":\"holder_address\",\"value\":\"terra13e4jmcjnwrauvl2fnjdwex0exuzd8zrh5xk29v\"},{\"key\":\"amount\",\"value\":\"10000000\"},{\"key\":\"contract_address\",\"value\":\"terra13e4jmcjnwrauvl2fnjdwex0exuzd8zrh5xk29v\"},{\"key\":\"action\",\"value\":\"swap\"},{\"key\":\"offer_asset\",\"value\":\"terra1u0t35drzyy0mujj8rkdyzhe264uls4ug3wdp3x\"},{\"key\":\"ask_asset\",\"value\":\"uluna\"},{\"key\":\"offer_amount\",\"value\":\"10000000\"},{\"key\":\"return_amount\",\"value\":\"8879824\"},{\"key\":\"tax_amount\",\"value\":\"28479\"},{\"key\":\"spread_amount\",\"value\":\"3120\"},{\"key\":\"commission_amount\",\"value\":\"26719\"}]},{\"type\":\"message\",\"attributes\":[{\"key\":\"action\",\"value\":\"execute_contract\"},{\"key\":\"module\",\"value\":\"wasm\"},{\"key\":\"sender\",\"value\":\"terra1la8v6shy3gaumtqwj94g54nsedpa26yxmfdfzx\"}]},{\"type\":\"transfer\",\"attributes\":[{\"key\":\"recipient\",\"value\":\"terra1la8v6shy3gaumtqwj94g54nsedpa26yxmfdfzx\"},{\"key\":\"sender\",\"value\":\"terra13e4jmcjnwrauvl2fnjdwex0exuzd8zrh5xk29v\"},{\"key\":\"amount\",\"value\":\"8851345uluna\"}]}]}]', gas_wanted=1000000, gas_used=343096, logs=[TxLog(msg_index=0, log='', events=[{'type': 'execute_contract', 'attributes': [{'key': 'sender', 'value': 'terra1u0t35drzyy0mujj8rkdyzhe264uls4ug3wdp3x'}, {'key': 'contract_address', 'value': 'terra1ac24j6pdxh53czqyrkr6ygphdeftg7u3958tl2'}, {'key': 'sender', 'value': 'terra1u0t35drzyy0mujj8rkdyzhe264uls4ug3wdp3x'}, {'key': 'contract_address', 'value': 'terra1ac24j6pdxh53czqyrkr6ygphdeftg7u3958tl2'}, {'key': 'sender', 'value': 'terra1u0t35drzyy0mujj8rkdyzhe264uls4ug3wdp3x'}, {'key': 'contract_address', 'value': 'terra13e4jmcjnwrauvl2fnjdwex0exuzd8zrh5xk29v'}, {'key': 'sender', 'value': 'terra1la8v6shy3gaumtqwj94g54nsedpa26yxmfdfzx'}, {'key': 'contract_address', 'value': 'terra1u0t35drzyy0mujj8rkdyzhe264uls4ug3wdp3x'}]}, {'type': 'from_contract', 'attributes': [{'key': 'contract_address', 'value': 'terra1u0t35drzyy0mujj8rkdyzhe264uls4ug3wdp3x'}, {'key': 'action', 'value': 'send'}, {'key': 'from', 'value': 'terra1la8v6shy3gaumtqwj94g54nsedpa26yxmfdfzx'}, {'key': 'to', 'value': 'terra13e4jmcjnwrauvl2fnjdwex0exuzd8zrh5xk29v'}, {'key': 'amount', 'value': '10000000'}, {'key': 'contract_address', 'value': 'terra1ac24j6pdxh53czqyrkr6ygphdeftg7u3958tl2'}, {'key': 'action', 'value': 'decrease_balance'}, {'key': 'holder_address', 'value': 'terra1la8v6shy3gaumtqwj94g54nsedpa26yxmfdfzx'}, {'key': 'amount', 'value': '10000000'}, {'key': 'contract_address', 'value': 'terra1ac24j6pdxh53czqyrkr6ygphdeftg7u3958tl2'}, {'key': 'action', 'value': 'increase_balance'}, {'key': 'holder_address', 'value': 'terra13e4jmcjnwrauvl2fnjdwex0exuzd8zrh5xk29v'}, {'key': 'amount', 'value': '10000000'}, {'key': 'contract_address', 'value': 'terra13e4jmcjnwrauvl2fnjdwex0exuzd8zrh5xk29v'}, {'key': 'action', 'value': 'swap'}, {'key': 'offer_asset', 'value': 'terra1u0t35drzyy0mujj8rkdyzhe264uls4ug3wdp3x'}, {'key': 'ask_asset', 'value': 'uluna'}, {'key': 'offer_amount', 'value': '10000000'}, {'key': 'return_amount', 'value': '8879824'}, {'key': 'tax_amount', 'value': '28479'}, {'key': 'spread_amount', 'value': '3120'}, {'key': 'commission_amount', 'value': '26719'}]}, {'type': 'message', 'attributes': [{'key': 'action', 'value': 'execute_contract'}, {'key': 'module', 'value': 'wasm'}, {'key': 'sender', 'value': 'terra1la8v6shy3gaumtqwj94g54nsedpa26yxmfdfzx'}]}, {'type': 'transfer', 'attributes': [{'key': 'recipient', 'value': 'terra1la8v6shy3gaumtqwj94g54nsedpa26yxmfdfzx'}, {'key': 'sender', 'value': 'terra13e4jmcjnwrauvl2fnjdwex0exuzd8zrh5xk29v'}, {'key': 'amount', 'value': '8851345uluna'}]}], events_by_type={'execute_contract': {'sender': ['terra1u0t35drzyy0mujj8rkdyzhe264uls4ug3wdp3x', 'terra1u0t35drzyy0mujj8rkdyzhe264uls4ug3wdp3x', 'terra1u0t35drzyy0mujj8rkdyzhe264uls4ug3wdp3x', 'terra1la8v6shy3gaumtqwj94g54nsedpa26yxmfdfzx'], 'contract_address': ['terra1ac24j6pdxh53czqyrkr6ygphdeftg7u3958tl2', 'terra1ac24j6pdxh53czqyrkr6ygphdeftg7u3958tl2', 'terra13e4jmcjnwrauvl2fnjdwex0exuzd8zrh5xk29v', 'terra1u0t35drzyy0mujj8rkdyzhe264uls4ug3wdp3x']}, 'from_contract': {'contract_address': ['terra1u0t35drzyy0mujj8rkdyzhe264uls4ug3wdp3x', 'terra1ac24j6pdxh53czqyrkr6ygphdeftg7u3958tl2', 'terra1ac24j6pdxh53czqyrkr6ygphdeftg7u3958tl2', 'terra13e4jmcjnwrauvl2fnjdwex0exuzd8zrh5xk29v'], 'action': ['send', 'decrease_balance', 'increase_balance', 'swap'], 'from': ['terra1la8v6shy3gaumtqwj94g54nsedpa26yxmfdfzx'], 'to': ['terra13e4jmcjnwrauvl2fnjdwex0exuzd8zrh5xk29v'], 'amount': ['10000000', '10000000', '10000000'], 'holder_address': ['terra1la8v6shy3gaumtqwj94g54nsedpa26yxmfdfzx', 'terra13e4jmcjnwrauvl2fnjdwex0exuzd8zrh5xk29v'], 'offer_asset': ['terra1u0t35drzyy0mujj8rkdyzhe264uls4ug3wdp3x'], 'ask_asset': ['uluna'], 'offer_amount': ['10000000'], 'return_amount': ['8879824'], 'tax_amount': ['28479'], 'spread_amount': ['3120'], 'commission_amount': ['26719']}, 'message': {'action': ['execute_contract'], 'module': ['wasm'], 'sender': ['terra1la8v6shy3gaumtqwj94g54nsedpa26yxmfdfzx']}, 'transfer': {'recipient': ['terra1la8v6shy3gaumtqwj94g54nsedpa26yxmfdfzx'], 'sender': ['terra13e4jmcjnwrauvl2fnjdwex0exuzd8zrh5xk29v'], 'amount': ['8851345uluna']}})], code=None, codespace=None)"
            ]
          },
          "metadata": {},
          "execution_count": 249
        }
      ]
    },
    {
      "cell_type": "markdown",
      "metadata": {
        "id": "6aOtRzjPMyeu"
      },
      "source": [
        "# Next Steps\n",
        "Now that the contract integrations are working, the following next steps can extend the contracts:\n",
        "\n",
        "\n",
        "*   Buy and sell signals\n",
        "*   Submit bLuna to be slow burned\n",
        "*   Deploy to an always on Replit server\n",
        "\n"
      ]
    }
  ]
}