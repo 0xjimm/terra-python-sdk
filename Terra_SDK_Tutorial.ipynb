{
  "nbformat": 4,
  "nbformat_minor": 0,
  "metadata": {
    "colab": {
      "name": "Terra SDK Tutorial.ipynb",
      "provenance": [],
      "include_colab_link": true
    },
    "kernelspec": {
      "display_name": "Python 3",
      "name": "python3"
    },
    "language_info": {
      "name": "python"
    }
  },
  "cells": [
    {
      "cell_type": "markdown",
      "metadata": {
        "id": "view-in-github",
        "colab_type": "text"
      },
      "source": [
        "<a href=\"https://colab.research.google.com/github/lejimmy/terra-python-sdk/blob/main/Terra_SDK_Tutorial.ipynb\" target=\"_parent\"><img src=\"https://colab.research.google.com/assets/colab-badge.svg\" alt=\"Open In Colab\"/></a>"
      ]
    },
    {
      "cell_type": "markdown",
      "metadata": {
        "id": "bsX6V-ndcr2O"
      },
      "source": [
        "# Terra SDK for Python - Intro Tutorial\n"
      ]
    },
    {
      "cell_type": "code",
      "metadata": {
        "colab": {
          "base_uri": "https://localhost:8080/",
          "height": 714
        },
        "id": "j4BC9x4WzJ6X",
        "outputId": "5e5be252-633c-40d0-f92d-f3f3abb87666"
      },
      "source": [
        "!pip install terra-sdk"
      ],
      "execution_count": 2,
      "outputs": [
        {
          "output_type": "display_data",
          "data": {
            "text/html": [
              "\n",
              "  <style>\n",
              "    pre {\n",
              "        white-space: pre-wrap;\n",
              "    }\n",
              "  </style>\n",
              "  "
            ],
            "text/plain": [
              "<IPython.core.display.HTML object>"
            ]
          },
          "metadata": {
            "tags": []
          }
        },
        {
          "output_type": "stream",
          "text": [
            "Collecting terra-sdk\n",
            "  Downloading terra_sdk-0.14.0-py3-none-any.whl (68 kB)\n",
            "\u001b[K     |████████████████████████████████| 68 kB 1.7 MB/s \n",
            "\u001b[?25hCollecting mnemonic<0.20,>=0.19\n",
            "  Downloading mnemonic-0.19-py2.py3-none-any.whl (61 kB)\n",
            "\u001b[K     |████████████████████████████████| 61 kB 4.3 MB/s \n",
            "\u001b[?25hRequirement already satisfied: nest-asyncio<2.0.0,>=1.5.1 in /usr/local/lib/python3.7/dist-packages (from terra-sdk) (1.5.1)\n",
            "Collecting bech32<2.0.0,>=1.2.0\n",
            "  Downloading bech32-1.2.0-py3-none-any.whl (4.6 kB)\n",
            "Requirement already satisfied: wrapt<2.0.0,>=1.12.1 in /usr/local/lib/python3.7/dist-packages (from terra-sdk) (1.12.1)\n",
            "Collecting attrs<21.0.0,>=20.3.0\n",
            "  Downloading attrs-20.3.0-py2.py3-none-any.whl (49 kB)\n",
            "\u001b[K     |████████████████████████████████| 49 kB 2.8 MB/s \n",
            "\u001b[?25hCollecting aiohttp<4.0.0,>=3.7.3\n",
            "  Downloading aiohttp-3.7.4.post0-cp37-cp37m-manylinux2014_x86_64.whl (1.3 MB)\n",
            "\u001b[K     |████████████████████████████████| 1.3 MB 9.1 MB/s \n",
            "\u001b[?25hCollecting ecdsa<0.17.0,>=0.16.1\n",
            "  Downloading ecdsa-0.16.1-py2.py3-none-any.whl (104 kB)\n",
            "\u001b[K     |████████████████████████████████| 104 kB 25.0 MB/s \n",
            "\u001b[?25hCollecting bip32utils<0.4,>=0.3.post4\n",
            "  Downloading bip32utils-0.3.post4-py3-none-any.whl (9.9 kB)\n",
            "Collecting multidict<7.0,>=4.5\n",
            "  Downloading multidict-5.1.0-cp37-cp37m-manylinux2014_x86_64.whl (142 kB)\n",
            "\u001b[K     |████████████████████████████████| 142 kB 24.8 MB/s \n",
            "\u001b[?25hRequirement already satisfied: chardet<5.0,>=2.0 in /usr/local/lib/python3.7/dist-packages (from aiohttp<4.0.0,>=3.7.3->terra-sdk) (3.0.4)\n",
            "Requirement already satisfied: typing-extensions>=3.6.5 in /usr/local/lib/python3.7/dist-packages (from aiohttp<4.0.0,>=3.7.3->terra-sdk) (3.7.4.3)\n",
            "Collecting yarl<2.0,>=1.0\n",
            "  Downloading yarl-1.6.3-cp37-cp37m-manylinux2014_x86_64.whl (294 kB)\n",
            "\u001b[K     |████████████████████████████████| 294 kB 24.3 MB/s \n",
            "\u001b[?25hCollecting async-timeout<4.0,>=3.0\n",
            "  Downloading async_timeout-3.0.1-py3-none-any.whl (8.2 kB)\n",
            "Requirement already satisfied: six>=1.9.0 in /usr/local/lib/python3.7/dist-packages (from ecdsa<0.17.0,>=0.16.1->terra-sdk) (1.15.0)\n",
            "Requirement already satisfied: idna>=2.0 in /usr/local/lib/python3.7/dist-packages (from yarl<2.0,>=1.0->aiohttp<4.0.0,>=3.7.3->terra-sdk) (2.10)\n",
            "Installing collected packages: multidict, yarl, ecdsa, attrs, async-timeout, mnemonic, bip32utils, bech32, aiohttp, terra-sdk\n",
            "  Attempting uninstall: attrs\n",
            "    Found existing installation: attrs 21.2.0\n",
            "    Uninstalling attrs-21.2.0:\n",
            "      Successfully uninstalled attrs-21.2.0\n",
            "\u001b[31mERROR: pip's dependency resolver does not currently take into account all the packages that are installed. This behaviour is the source of the following dependency conflicts.\n",
            "datascience 0.10.6 requires folium==0.2.1, but you have folium 0.8.3 which is incompatible.\u001b[0m\n",
            "Successfully installed aiohttp-3.7.4.post0 async-timeout-3.0.1 attrs-20.3.0 bech32-1.2.0 bip32utils-0.3.post4 ecdsa-0.16.1 mnemonic-0.19 multidict-5.1.0 terra-sdk-0.14.0 yarl-1.6.3\n"
          ],
          "name": "stdout"
        }
      ]
    },
    {
      "cell_type": "code",
      "metadata": {
        "colab": {
          "base_uri": "https://localhost:8080/",
          "height": 17
        },
        "id": "cQLpvmVgzh0O",
        "outputId": "ffa9f8e0-a013-4ef1-f07c-a7654af437a8"
      },
      "source": [
        "from terra_sdk.client.lcd import LCDClient"
      ],
      "execution_count": 3,
      "outputs": [
        {
          "output_type": "display_data",
          "data": {
            "text/html": [
              "\n",
              "  <style>\n",
              "    pre {\n",
              "        white-space: pre-wrap;\n",
              "    }\n",
              "  </style>\n",
              "  "
            ],
            "text/plain": [
              "<IPython.core.display.HTML object>"
            ]
          },
          "metadata": {
            "tags": []
          }
        }
      ]
    },
    {
      "cell_type": "code",
      "metadata": {
        "colab": {
          "base_uri": "https://localhost:8080/",
          "height": 17
        },
        "id": "ZiY03wnmzyrr",
        "outputId": "5d1b994e-cc75-478f-d74d-c057a47ca492"
      },
      "source": [
        "terra = LCDClient('https://tequila-lcd.terra.dev', 'tequila-0004')"
      ],
      "execution_count": 26,
      "outputs": [
        {
          "output_type": "display_data",
          "data": {
            "text/html": [
              "\n",
              "  <style>\n",
              "    pre {\n",
              "        white-space: pre-wrap;\n",
              "    }\n",
              "  </style>\n",
              "  "
            ],
            "text/plain": [
              "<IPython.core.display.HTML object>"
            ]
          },
          "metadata": {
            "tags": []
          }
        }
      ]
    },
    {
      "cell_type": "code",
      "metadata": {
        "colab": {
          "base_uri": "https://localhost:8080/",
          "height": 1000
        },
        "id": "O5gl3SQ9z3Hx",
        "outputId": "51de4804-42c3-4703-f9a9-a267c839403d"
      },
      "source": [
        "terra.tendermint.node_info()"
      ],
      "execution_count": 27,
      "outputs": [
        {
          "output_type": "display_data",
          "data": {
            "text/html": [
              "\n",
              "  <style>\n",
              "    pre {\n",
              "        white-space: pre-wrap;\n",
              "    }\n",
              "  </style>\n",
              "  "
            ],
            "text/plain": [
              "<IPython.core.display.HTML object>"
            ]
          },
          "metadata": {
            "tags": []
          }
        },
        {
          "output_type": "execute_result",
          "data": {
            "text/plain": [
              "{'application_version': {'build_deps': ['github.com/99designs/keyring@v1.1.6',\n",
              "   'github.com/ChainSafe/go-schnorrkel@v0.0.0-20200405005733-88cbf1b4c40d',\n",
              "   'github.com/CosmWasm/go-cosmwasm@v0.10.0 => github.com/terra-project/go-cosmwasm@v0.10.4',\n",
              "   'github.com/Workiva/go-datastructures@v1.0.52',\n",
              "   'github.com/bartekn/go-bip39@v0.0.0-20171116152956-a05967ea095d',\n",
              "   'github.com/beorn7/perks@v1.0.1',\n",
              "   'github.com/bgentry/speakeasy@v0.1.0',\n",
              "   'github.com/btcsuite/btcd@v0.20.1-beta',\n",
              "   'github.com/btcsuite/btcutil@v1.0.2',\n",
              "   'github.com/cespare/xxhash/v2@v2.1.1',\n",
              "   'github.com/cosmos/cosmos-sdk@v0.39.2 => github.com/terra-project/cosmos-sdk@v0.39.2-public.4',\n",
              "   'github.com/cosmos/go-bip39@v0.0.0-20180819234021-555e2067c45d',\n",
              "   'github.com/cosmos/ledger-cosmos-go@v0.11.1 => github.com/terra-project/ledger-terra-go@v0.11.1-terra',\n",
              "   'github.com/cosmos/ledger-go@v0.9.2',\n",
              "   'github.com/davecgh/go-spew@v1.1.1',\n",
              "   'github.com/dvsekhvalnov/jose2go@v0.0.0-20200901110807-248326c1351b',\n",
              "   'github.com/fsnotify/fsnotify@v1.4.7',\n",
              "   'github.com/go-kit/kit@v0.10.0',\n",
              "   'github.com/go-logfmt/logfmt@v0.5.0',\n",
              "   'github.com/godbus/dbus@v0.0.0-20190726142602-4481cbc300e2',\n",
              "   'github.com/gogo/protobuf@v1.3.1',\n",
              "   'github.com/golang/protobuf@v1.4.1',\n",
              "   'github.com/golang/snappy@v0.0.2',\n",
              "   'github.com/google/btree@v1.0.0',\n",
              "   'github.com/gorilla/handlers@v1.4.2',\n",
              "   'github.com/gorilla/mux@v1.7.4',\n",
              "   'github.com/gorilla/websocket@v1.4.2',\n",
              "   'github.com/gsterjov/go-libsecret@v0.0.0-20161001094733-a6f4afe4910c',\n",
              "   'github.com/gtank/merlin@v0.1.1',\n",
              "   'github.com/gtank/ristretto255@v0.1.2',\n",
              "   'github.com/hashicorp/golang-lru@v0.5.4',\n",
              "   'github.com/hashicorp/hcl@v1.0.0',\n",
              "   'github.com/libp2p/go-buffer-pool@v0.0.2',\n",
              "   'github.com/magiconair/properties@v1.8.1',\n",
              "   'github.com/mattn/go-isatty@v0.0.12',\n",
              "   'github.com/matttproud/golang_protobuf_extensions@v1.0.1',\n",
              "   'github.com/mimoo/StrobeGo@v0.0.0-20181016162300-f8f6d4d2b643',\n",
              "   'github.com/minio/highwayhash@v1.0.0',\n",
              "   'github.com/mitchellh/go-homedir@v1.1.0',\n",
              "   'github.com/mitchellh/mapstructure@v1.1.2',\n",
              "   'github.com/mtibben/percent@v0.2.1',\n",
              "   'github.com/pelletier/go-toml@v1.6.0',\n",
              "   'github.com/pkg/errors@v0.9.1',\n",
              "   'github.com/pmezard/go-difflib@v1.0.0',\n",
              "   'github.com/prometheus/client_golang@v1.5.1',\n",
              "   'github.com/prometheus/client_model@v0.2.0',\n",
              "   'github.com/prometheus/common@v0.9.1',\n",
              "   'github.com/prometheus/procfs@v0.0.8',\n",
              "   'github.com/rakyll/statik@v0.1.6',\n",
              "   'github.com/rcrowley/go-metrics@v0.0.0-20200313005456-10cdbea86bc0',\n",
              "   'github.com/rs/cors@v1.7.0',\n",
              "   'github.com/spf13/afero@v1.2.1',\n",
              "   'github.com/spf13/cast@v1.3.0',\n",
              "   'github.com/spf13/cobra@v1.0.0',\n",
              "   'github.com/spf13/jwalterweatherman@v1.1.0',\n",
              "   'github.com/spf13/pflag@v1.0.5',\n",
              "   'github.com/spf13/viper@v1.6.3',\n",
              "   'github.com/stretchr/testify@v1.6.1',\n",
              "   'github.com/subosito/gotenv@v1.2.0',\n",
              "   'github.com/syndtr/goleveldb@v1.0.1-0.20190923125748-758128399b1d',\n",
              "   'github.com/tendermint/btcd@v0.1.1',\n",
              "   'github.com/tendermint/crypto@v0.0.0-20191022145703-50d29ede1e15',\n",
              "   'github.com/tendermint/go-amino@v0.15.1',\n",
              "   'github.com/tendermint/iavl@v0.14.1',\n",
              "   'github.com/tendermint/tendermint@v0.33.9',\n",
              "   'github.com/tendermint/tm-db@v0.5.1',\n",
              "   'github.com/zondax/hid@v0.9.0',\n",
              "   'golang.org/x/crypto@v0.0.0-20200622213623-75b288015ac9',\n",
              "   'golang.org/x/net@v0.0.0-20201010224723-4f7140c49acb',\n",
              "   'golang.org/x/sys@v0.0.0-20201013132646-2da7054afaeb',\n",
              "   'golang.org/x/text@v0.3.3',\n",
              "   'google.golang.org/genproto@v0.0.0-20200526211855-cb27e3aa2013',\n",
              "   'google.golang.org/grpc@v1.30.0',\n",
              "   'google.golang.org/protobuf@v1.25.0',\n",
              "   'gopkg.in/ini.v1@v1.51.0',\n",
              "   'gopkg.in/yaml.v2@v2.3.0',\n",
              "   'gopkg.in/yaml.v3@v3.0.0-20200313102051-9f266ea9e77c'],\n",
              "  'build_tags': 'netgo ledger muslc,',\n",
              "  'client_name': 'terracli',\n",
              "  'commit': 'b53f1bc72f018806f62b8770256902721b8e499d',\n",
              "  'go': 'go version go1.14.4 linux/amd64',\n",
              "  'name': 'terra',\n",
              "  'server_name': 'terrad',\n",
              "  'version': '0.4.2-rc0-25-gb53f1bc'},\n",
              " 'node_info': {'channels': '4020212223303800',\n",
              "  'id': '5e58149fb5fa719bd49588efa87a5b79df09d720',\n",
              "  'listen_addr': 'tcp://0.0.0.0:26656',\n",
              "  'moniker': 'tequila-rpc4',\n",
              "  'network': 'tequila-0004',\n",
              "  'other': {'rpc_address': 'tcp://0.0.0.0:26657', 'tx_index': 'on'},\n",
              "  'protocol_version': {'app': '0', 'block': '10', 'p2p': '7'},\n",
              "  'version': '0.33.9'}}"
            ]
          },
          "metadata": {
            "tags": []
          },
          "execution_count": 27
        }
      ]
    },
    {
      "cell_type": "code",
      "metadata": {
        "colab": {
          "base_uri": "https://localhost:8080/",
          "height": 442
        },
        "id": "jeap9GGoz4yy",
        "outputId": "caf08b69-e6ed-464b-fa31-c28ace30328c"
      },
      "source": [
        "terra.oracle.parameters()"
      ],
      "execution_count": 28,
      "outputs": [
        {
          "output_type": "display_data",
          "data": {
            "text/html": [
              "\n",
              "  <style>\n",
              "    pre {\n",
              "        white-space: pre-wrap;\n",
              "    }\n",
              "  </style>\n",
              "  "
            ],
            "text/plain": [
              "<IPython.core.display.HTML object>"
            ]
          },
          "metadata": {
            "tags": []
          }
        },
        {
          "output_type": "execute_result",
          "data": {
            "text/plain": [
              "{'min_valid_per_window': '0.050000000000000000',\n",
              " 'reward_band': '0.020000000000000000',\n",
              " 'reward_distribution_window': '5256000',\n",
              " 'slash_fraction': '0.000100000000000000',\n",
              " 'slash_window': '100800',\n",
              " 'vote_period': '5',\n",
              " 'vote_threshold': '0.500000000000000000',\n",
              " 'whitelist': [{'name': 'ukrw', 'tobin_tax': '0.010000000000000000'},\n",
              "  {'name': 'usdr', 'tobin_tax': '0.003500000000000000'},\n",
              "  {'name': 'uusd', 'tobin_tax': '0.003500000000000000'},\n",
              "  {'name': 'umnt', 'tobin_tax': '0.020000000000000000'},\n",
              "  {'name': 'ueur', 'tobin_tax': '0.003500000000000000'},\n",
              "  {'name': 'ucny', 'tobin_tax': '0.003500000000000000'},\n",
              "  {'name': 'ujpy', 'tobin_tax': '0.003500000000000000'},\n",
              "  {'name': 'ugbp', 'tobin_tax': '0.003500000000000000'},\n",
              "  {'name': 'uinr', 'tobin_tax': '0.003500000000000000'},\n",
              "  {'name': 'ucad', 'tobin_tax': '0.003500000000000000'},\n",
              "  {'name': 'uchf', 'tobin_tax': '0.003500000000000000'},\n",
              "  {'name': 'uhkd', 'tobin_tax': '0.003500000000000000'},\n",
              "  {'name': 'usgd', 'tobin_tax': '0.003500000000000000'},\n",
              "  {'name': 'uaud', 'tobin_tax': '0.003500000000000000'},\n",
              "  {'name': 'uthb', 'tobin_tax': '0.007500000000000000'},\n",
              "  {'name': 'usek', 'tobin_tax': '0.003500000000000000'},\n",
              "  {'name': 'unok', 'tobin_tax': '0.003500000000000000'},\n",
              "  {'name': 'udkk', 'tobin_tax': '0.003500000000000000'}]}"
            ]
          },
          "metadata": {
            "tags": []
          },
          "execution_count": 28
        }
      ]
    },
    {
      "cell_type": "code",
      "metadata": {
        "colab": {
          "base_uri": "https://localhost:8080/",
          "height": 35
        },
        "id": "QH1hADk60AB7",
        "outputId": "a80b5c55-5cfb-49c7-bc4e-948900b8cc5d"
      },
      "source": [
        "# block height of last query\n",
        "terra.last_request_height"
      ],
      "execution_count": 29,
      "outputs": [
        {
          "output_type": "display_data",
          "data": {
            "text/html": [
              "\n",
              "  <style>\n",
              "    pre {\n",
              "        white-space: pre-wrap;\n",
              "    }\n",
              "  </style>\n",
              "  "
            ],
            "text/plain": [
              "<IPython.core.display.HTML object>"
            ]
          },
          "metadata": {
            "tags": []
          }
        },
        {
          "output_type": "execute_result",
          "data": {
            "application/vnd.google.colaboratory.intrinsic+json": {
              "type": "string"
            },
            "text/plain": [
              "'5175126'"
            ]
          },
          "metadata": {
            "tags": []
          },
          "execution_count": 29
        }
      ]
    },
    {
      "cell_type": "code",
      "metadata": {
        "colab": {
          "base_uri": "https://localhost:8080/",
          "height": 34
        },
        "id": "wz9Pd-8r0CXB",
        "outputId": "378a151f-2495-4544-9a23-947e7c62c7d4"
      },
      "source": [
        "terra.treasury.tax_rate()"
      ],
      "execution_count": 30,
      "outputs": [
        {
          "output_type": "display_data",
          "data": {
            "text/html": [
              "\n",
              "  <style>\n",
              "    pre {\n",
              "        white-space: pre-wrap;\n",
              "    }\n",
              "  </style>\n",
              "  "
            ],
            "text/plain": [
              "<IPython.core.display.HTML object>"
            ]
          },
          "metadata": {
            "tags": []
          }
        },
        {
          "output_type": "execute_result",
          "data": {
            "text/plain": [
              "Dec('0.002467377735563951')"
            ]
          },
          "metadata": {
            "tags": []
          },
          "execution_count": 30
        }
      ]
    },
    {
      "cell_type": "markdown",
      "metadata": {
        "id": "KKYnvY6U0XwQ"
      },
      "source": [
        "# Signing Transactions"
      ]
    },
    {
      "cell_type": "code",
      "metadata": {
        "colab": {
          "base_uri": "https://localhost:8080/",
          "height": 17
        },
        "id": "vlE5ZWlN0OEN",
        "outputId": "3a996fb9-f500-4a17-9015-ab9a64d3c4b3"
      },
      "source": [
        "from terra_sdk.key.mnemonic import MnemonicKey\n",
        "\n",
        "# creating a key\n",
        "mk = MnemonicKey(mnemonic='secret globe hint gather move evil monster column disorder burden couple odor salad holiday small float endorse alley escape veteran cruel cross web during')"
      ],
      "execution_count": 31,
      "outputs": [
        {
          "output_type": "display_data",
          "data": {
            "text/html": [
              "\n",
              "  <style>\n",
              "    pre {\n",
              "        white-space: pre-wrap;\n",
              "    }\n",
              "  </style>\n",
              "  "
            ],
            "text/plain": [
              "<IPython.core.display.HTML object>"
            ]
          },
          "metadata": {
            "tags": []
          }
        }
      ]
    },
    {
      "cell_type": "code",
      "metadata": {
        "colab": {
          "base_uri": "https://localhost:8080/",
          "height": 35
        },
        "id": "F-3eWiZF08XU",
        "outputId": "4f717119-bae4-46ef-9456-aef85ca020a0"
      },
      "source": [
        "mk.acc_address"
      ],
      "execution_count": 32,
      "outputs": [
        {
          "output_type": "display_data",
          "data": {
            "text/html": [
              "\n",
              "  <style>\n",
              "    pre {\n",
              "        white-space: pre-wrap;\n",
              "    }\n",
              "  </style>\n",
              "  "
            ],
            "text/plain": [
              "<IPython.core.display.HTML object>"
            ]
          },
          "metadata": {
            "tags": []
          }
        },
        {
          "output_type": "execute_result",
          "data": {
            "application/vnd.google.colaboratory.intrinsic+json": {
              "type": "string"
            },
            "text/plain": [
              "'terra1la8v6shy3gaumtqwj94g54nsedpa26yxmfdfzx'"
            ]
          },
          "metadata": {
            "tags": []
          },
          "execution_count": 32
        }
      ]
    },
    {
      "cell_type": "code",
      "metadata": {
        "colab": {
          "base_uri": "https://localhost:8080/",
          "height": 34
        },
        "id": "ji6lBLwp09eM",
        "outputId": "0debdf98-601f-48bd-c4ad-31f1a5e75988"
      },
      "source": [
        "mk.private_key"
      ],
      "execution_count": 33,
      "outputs": [
        {
          "output_type": "display_data",
          "data": {
            "text/html": [
              "\n",
              "  <style>\n",
              "    pre {\n",
              "        white-space: pre-wrap;\n",
              "    }\n",
              "  </style>\n",
              "  "
            ],
            "text/plain": [
              "<IPython.core.display.HTML object>"
            ]
          },
          "metadata": {
            "tags": []
          }
        },
        {
          "output_type": "execute_result",
          "data": {
            "text/plain": [
              "b\"\\xef\\xbd8d3\\x81Y\\xfb\\xbdM\\x89 \\x81\\xe2Z\\xf6'`\\xed\\xe8!\\xed\\xd4svy8\\xc6\\x12\\x03\\x9c\\x9c\""
            ]
          },
          "metadata": {
            "tags": []
          },
          "execution_count": 33
        }
      ]
    },
    {
      "cell_type": "code",
      "metadata": {
        "colab": {
          "base_uri": "https://localhost:8080/",
          "height": 17
        },
        "id": "bVsK8OEW2eQP",
        "outputId": "b3da0f0e-fa5e-4e5d-ef2f-2b9760cf9f28"
      },
      "source": [
        "mk2 = MnemonicKey()"
      ],
      "execution_count": 34,
      "outputs": [
        {
          "output_type": "display_data",
          "data": {
            "text/html": [
              "\n",
              "  <style>\n",
              "    pre {\n",
              "        white-space: pre-wrap;\n",
              "    }\n",
              "  </style>\n",
              "  "
            ],
            "text/plain": [
              "<IPython.core.display.HTML object>"
            ]
          },
          "metadata": {
            "tags": []
          }
        }
      ]
    },
    {
      "cell_type": "code",
      "metadata": {
        "colab": {
          "base_uri": "https://localhost:8080/",
          "height": 34
        },
        "id": "Qj0aSttB1j2e",
        "outputId": "106df5ba-9dc5-488e-ceab-fdf7acefb565"
      },
      "source": [
        "terra.bank.balance(mk.acc_address)"
      ],
      "execution_count": 48,
      "outputs": [
        {
          "output_type": "display_data",
          "data": {
            "text/html": [
              "\n",
              "  <style>\n",
              "    pre {\n",
              "        white-space: pre-wrap;\n",
              "    }\n",
              "  </style>\n",
              "  "
            ],
            "text/plain": [
              "<IPython.core.display.HTML object>"
            ]
          },
          "metadata": {
            "tags": []
          }
        },
        {
          "output_type": "execute_result",
          "data": {
            "text/plain": [
              "Coins('499771340uluna,2498574910uusd')"
            ]
          },
          "metadata": {
            "tags": []
          },
          "execution_count": 48
        }
      ]
    },
    {
      "cell_type": "code",
      "metadata": {
        "colab": {
          "base_uri": "https://localhost:8080/",
          "height": 34
        },
        "id": "Rr1fVCxD1oHr",
        "outputId": "51808115-e8e7-48c1-b9f5-f80267f5bb72"
      },
      "source": [
        "terra.bank.balance(mk.acc_address).denoms()"
      ],
      "execution_count": 36,
      "outputs": [
        {
          "output_type": "display_data",
          "data": {
            "text/html": [
              "\n",
              "  <style>\n",
              "    pre {\n",
              "        white-space: pre-wrap;\n",
              "    }\n",
              "  </style>\n",
              "  "
            ],
            "text/plain": [
              "<IPython.core.display.HTML object>"
            ]
          },
          "metadata": {
            "tags": []
          }
        },
        {
          "output_type": "execute_result",
          "data": {
            "text/plain": [
              "['uluna', 'uusd']"
            ]
          },
          "metadata": {
            "tags": []
          },
          "execution_count": 36
        }
      ]
    },
    {
      "cell_type": "code",
      "metadata": {
        "colab": {
          "base_uri": "https://localhost:8080/",
          "height": 34
        },
        "id": "1ee30TzC2LI8",
        "outputId": "5a2f4d2c-e16d-4911-9415-6dbe3f877a7e"
      },
      "source": [
        "terra.bank.balance(mk.acc_address)['uluna']"
      ],
      "execution_count": 37,
      "outputs": [
        {
          "output_type": "display_data",
          "data": {
            "text/html": [
              "\n",
              "  <style>\n",
              "    pre {\n",
              "        white-space: pre-wrap;\n",
              "    }\n",
              "  </style>\n",
              "  "
            ],
            "text/plain": [
              "<IPython.core.display.HTML object>"
            ]
          },
          "metadata": {
            "tags": []
          }
        },
        {
          "output_type": "execute_result",
          "data": {
            "text/plain": [
              "Coin(denom='uluna', amount=1000000000)"
            ]
          },
          "metadata": {
            "tags": []
          },
          "execution_count": 37
        }
      ]
    },
    {
      "cell_type": "code",
      "metadata": {
        "colab": {
          "base_uri": "https://localhost:8080/",
          "height": 34
        },
        "id": "UkZAYIUD2QUU",
        "outputId": "2bf36a4c-c83c-4c40-83df-89495a2c044a"
      },
      "source": [
        "terra.bank.balance(mk.acc_address)['uluna'].amount"
      ],
      "execution_count": 38,
      "outputs": [
        {
          "output_type": "display_data",
          "data": {
            "text/html": [
              "\n",
              "  <style>\n",
              "    pre {\n",
              "        white-space: pre-wrap;\n",
              "    }\n",
              "  </style>\n",
              "  "
            ],
            "text/plain": [
              "<IPython.core.display.HTML object>"
            ]
          },
          "metadata": {
            "tags": []
          }
        },
        {
          "output_type": "execute_result",
          "data": {
            "text/plain": [
              "1000000000"
            ]
          },
          "metadata": {
            "tags": []
          },
          "execution_count": 38
        }
      ]
    },
    {
      "cell_type": "code",
      "metadata": {
        "colab": {
          "base_uri": "https://localhost:8080/",
          "height": 51
        },
        "id": "_EN5mXrS2WSV",
        "outputId": "42efff1a-cdb9-4233-88c8-225238ab54ae"
      },
      "source": [
        "(mk.acc_address, mk2.acc_address)"
      ],
      "execution_count": 39,
      "outputs": [
        {
          "output_type": "display_data",
          "data": {
            "text/html": [
              "\n",
              "  <style>\n",
              "    pre {\n",
              "        white-space: pre-wrap;\n",
              "    }\n",
              "  </style>\n",
              "  "
            ],
            "text/plain": [
              "<IPython.core.display.HTML object>"
            ]
          },
          "metadata": {
            "tags": []
          }
        },
        {
          "output_type": "execute_result",
          "data": {
            "text/plain": [
              "('terra1la8v6shy3gaumtqwj94g54nsedpa26yxmfdfzx',\n",
              " 'terra1kzyz3sj2e275ks0wzg25cln5z5x2t8xk065jjq')"
            ]
          },
          "metadata": {
            "tags": []
          },
          "execution_count": 39
        }
      ]
    },
    {
      "cell_type": "markdown",
      "metadata": {
        "id": "gYlyHohV2tvW"
      },
      "source": [
        "## Sending Transactions\n",
        "\n",
        "To transfer between native Terra assets, use `MsgSend` from the `Bank` module."
      ]
    },
    {
      "cell_type": "code",
      "metadata": {
        "colab": {
          "base_uri": "https://localhost:8080/",
          "height": 17
        },
        "id": "ZHiC0JNB2m4k",
        "outputId": "7fa9b50e-9936-4182-cac3-d08e2e74e217"
      },
      "source": [
        "from terra_sdk.core.bank import MsgSend"
      ],
      "execution_count": 40,
      "outputs": [
        {
          "output_type": "display_data",
          "data": {
            "text/html": [
              "\n",
              "  <style>\n",
              "    pre {\n",
              "        white-space: pre-wrap;\n",
              "    }\n",
              "  </style>\n",
              "  "
            ],
            "text/plain": [
              "<IPython.core.display.HTML object>"
            ]
          },
          "metadata": {
            "tags": []
          }
        }
      ]
    },
    {
      "cell_type": "code",
      "metadata": {
        "colab": {
          "base_uri": "https://localhost:8080/",
          "height": 17
        },
        "id": "iNj9mRoO2-sQ",
        "outputId": "fbaf6020-e743-47f6-b208-7e23240d6d19"
      },
      "source": [
        "send = MsgSend(mk.acc_address, mk2.acc_address, terra.bank.balance(mk.acc_address)/2)"
      ],
      "execution_count": null,
      "outputs": [
        {
          "output_type": "display_data",
          "data": {
            "text/html": [
              "\n",
              "  <style>\n",
              "    pre {\n",
              "        white-space: pre-wrap;\n",
              "    }\n",
              "  </style>\n",
              "  "
            ],
            "text/plain": [
              "<IPython.core.display.HTML object>"
            ]
          },
          "metadata": {
            "tags": []
          }
        }
      ]
    },
    {
      "cell_type": "code",
      "metadata": {
        "colab": {
          "base_uri": "https://localhost:8080/",
          "height": 34
        },
        "id": "r_lcqedU3BVt",
        "outputId": "2c9d4fb1-489b-4ac8-a1a2-70ff886552a7"
      },
      "source": [
        "send"
      ],
      "execution_count": 41,
      "outputs": [
        {
          "output_type": "display_data",
          "data": {
            "text/html": [
              "\n",
              "  <style>\n",
              "    pre {\n",
              "        white-space: pre-wrap;\n",
              "    }\n",
              "  </style>\n",
              "  "
            ],
            "text/plain": [
              "<IPython.core.display.HTML object>"
            ]
          },
          "metadata": {
            "tags": []
          }
        },
        {
          "output_type": "execute_result",
          "data": {
            "text/plain": [
              "MsgSend(from_address='terra1la8v6shy3gaumtqwj94g54nsedpa26yxmfdfzx', to_address='terra1r9ggaqkvzj5ej43ufdeyf4s4cr5ndzr0q5r058', amount=Coins('500000000uluna,2500000000uusd'))"
            ]
          },
          "metadata": {
            "tags": []
          },
          "execution_count": 41
        }
      ]
    },
    {
      "cell_type": "code",
      "metadata": {
        "colab": {
          "base_uri": "https://localhost:8080/",
          "height": 17
        },
        "id": "I5dm6OKt3MWg",
        "outputId": "9d9cbe1d-93b0-46c5-d048-f327004a3e27"
      },
      "source": [
        "wallet = terra.wallet(mk)"
      ],
      "execution_count": 43,
      "outputs": [
        {
          "output_type": "display_data",
          "data": {
            "text/html": [
              "\n",
              "  <style>\n",
              "    pre {\n",
              "        white-space: pre-wrap;\n",
              "    }\n",
              "  </style>\n",
              "  "
            ],
            "text/plain": [
              "<IPython.core.display.HTML object>"
            ]
          },
          "metadata": {
            "tags": []
          }
        }
      ]
    },
    {
      "cell_type": "code",
      "metadata": {
        "colab": {
          "base_uri": "https://localhost:8080/",
          "height": 17
        },
        "id": "EbQ5pS2Q3Z-O",
        "outputId": "ccd4112d-b3b5-42d3-bc53-38821c58cb87"
      },
      "source": [
        "tx = wallet.create_and_sign_tx(\n",
        "    msgs=[send],\n",
        "    memo='Hello There!',\n",
        "    gas_prices='2uluna',\n",
        "    gas_adjustment='1.5',\n",
        "    fee_denoms=['uluna', 'uusd']\n",
        "    )"
      ],
      "execution_count": 44,
      "outputs": [
        {
          "output_type": "display_data",
          "data": {
            "text/html": [
              "\n",
              "  <style>\n",
              "    pre {\n",
              "        white-space: pre-wrap;\n",
              "    }\n",
              "  </style>\n",
              "  "
            ],
            "text/plain": [
              "<IPython.core.display.HTML object>"
            ]
          },
          "metadata": {
            "tags": []
          }
        }
      ]
    },
    {
      "cell_type": "code",
      "metadata": {
        "colab": {
          "base_uri": "https://localhost:8080/",
          "height": 68
        },
        "id": "6piL-e5f3fb9",
        "outputId": "b568e94b-2eaa-4b71-a365-b5dc9f6286c4"
      },
      "source": [
        "tx"
      ],
      "execution_count": 45,
      "outputs": [
        {
          "output_type": "display_data",
          "data": {
            "text/html": [
              "\n",
              "  <style>\n",
              "    pre {\n",
              "        white-space: pre-wrap;\n",
              "    }\n",
              "  </style>\n",
              "  "
            ],
            "text/plain": [
              "<IPython.core.display.HTML object>"
            ]
          },
          "metadata": {
            "tags": []
          }
        },
        {
          "output_type": "execute_result",
          "data": {
            "text/plain": [
              "StdTx(msg=[MsgSend(from_address='terra1la8v6shy3gaumtqwj94g54nsedpa26yxmfdfzx', to_address='terra1kzyz3sj2e275ks0wzg25cln5z5x2t8xk065jjq', amount=Coins('500000000uluna,2500000000uusd'))], fee=StdFee(gas=114330, amount=Coins('228660uluna,1425090uusd')), signatures=[StdSignature(signature='/EIgKPosUWRKBjNZLGNOig2pQEJdOvh0lTs0VC1z3fsutjPc6uqDKNOfLEh6jCwN7j4cHNorLdZPeD75mLJyNQ==', pub_key=PublicKey(type='tendermint/PubKeySecp256k1', value='A1Qh3vrRBgq46YITAxUX1oI9SzAKUrmLidbIxWmOSea0'))], memo='Hello There!')"
            ]
          },
          "metadata": {
            "tags": []
          },
          "execution_count": 45
        }
      ]
    },
    {
      "cell_type": "code",
      "metadata": {
        "colab": {
          "base_uri": "https://localhost:8080/",
          "height": 17
        },
        "id": "w17D5L6A3fvb",
        "outputId": "ad2180aa-ebd4-48c8-c71e-9c79af5fce05"
      },
      "source": [
        "result = terra.tx.broadcast(tx)"
      ],
      "execution_count": 46,
      "outputs": [
        {
          "output_type": "display_data",
          "data": {
            "text/html": [
              "\n",
              "  <style>\n",
              "    pre {\n",
              "        white-space: pre-wrap;\n",
              "    }\n",
              "  </style>\n",
              "  "
            ],
            "text/plain": [
              "<IPython.core.display.HTML object>"
            ]
          },
          "metadata": {
            "tags": []
          }
        }
      ]
    },
    {
      "cell_type": "code",
      "metadata": {
        "colab": {
          "base_uri": "https://localhost:8080/",
          "height": 153
        },
        "id": "1MHFkBBj4Sxe",
        "outputId": "581fa3ba-9b8c-40e7-fad4-64cec0213342"
      },
      "source": [
        "result"
      ],
      "execution_count": 47,
      "outputs": [
        {
          "output_type": "display_data",
          "data": {
            "text/html": [
              "\n",
              "  <style>\n",
              "    pre {\n",
              "        white-space: pre-wrap;\n",
              "    }\n",
              "  </style>\n",
              "  "
            ],
            "text/plain": [
              "<IPython.core.display.HTML object>"
            ]
          },
          "metadata": {
            "tags": []
          }
        },
        {
          "output_type": "execute_result",
          "data": {
            "text/plain": [
              "BlockTxBroadcastResult(height=5175131, txhash='CE244B05DA500B7AB8CA208553192874AA863B23E9700378EEFB173A35803E95', raw_log='[{\"msg_index\":0,\"log\":\"\",\"events\":[{\"type\":\"message\",\"attributes\":[{\"key\":\"action\",\"value\":\"send\"},{\"key\":\"sender\",\"value\":\"terra1la8v6shy3gaumtqwj94g54nsedpa26yxmfdfzx\"},{\"key\":\"module\",\"value\":\"bank\"}]},{\"type\":\"transfer\",\"attributes\":[{\"key\":\"recipient\",\"value\":\"terra1kzyz3sj2e275ks0wzg25cln5z5x2t8xk065jjq\"},{\"key\":\"sender\",\"value\":\"terra1la8v6shy3gaumtqwj94g54nsedpa26yxmfdfzx\"},{\"key\":\"amount\",\"value\":\"500000000uluna,2500000000uusd\"}]}]}]', gas_wanted=114330, gas_used=83744, logs=[TxLog(msg_index=0, log='', events=[{'type': 'message', 'attributes': [{'key': 'action', 'value': 'send'}, {'key': 'sender', 'value': 'terra1la8v6shy3gaumtqwj94g54nsedpa26yxmfdfzx'}, {'key': 'module', 'value': 'bank'}]}, {'type': 'transfer', 'attributes': [{'key': 'recipient', 'value': 'terra1kzyz3sj2e275ks0wzg25cln5z5x2t8xk065jjq'}, {'key': 'sender', 'value': 'terra1la8v6shy3gaumtqwj94g54nsedpa26yxmfdfzx'}, {'key': 'amount', 'value': '500000000uluna,2500000000uusd'}]}], events_by_type={'message': {'action': ['send'], 'sender': ['terra1la8v6shy3gaumtqwj94g54nsedpa26yxmfdfzx'], 'module': ['bank']}, 'transfer': {'recipient': ['terra1kzyz3sj2e275ks0wzg25cln5z5x2t8xk065jjq'], 'sender': ['terra1la8v6shy3gaumtqwj94g54nsedpa26yxmfdfzx'], 'amount': ['500000000uluna,2500000000uusd']}})], code=None, codespace=None)"
            ]
          },
          "metadata": {
            "tags": []
          },
          "execution_count": 47
        }
      ]
    },
    {
      "cell_type": "code",
      "metadata": {
        "id": "YoxHrgJq4Tpq",
        "colab": {
          "base_uri": "https://localhost:8080/",
          "height": 35
        },
        "outputId": "fd6d06d6-79b2-48ca-ec70-bf739bccfd4d"
      },
      "source": [
        " result.txhash"
      ],
      "execution_count": 49,
      "outputs": [
        {
          "output_type": "display_data",
          "data": {
            "text/html": [
              "\n",
              "  <style>\n",
              "    pre {\n",
              "        white-space: pre-wrap;\n",
              "    }\n",
              "  </style>\n",
              "  "
            ],
            "text/plain": [
              "<IPython.core.display.HTML object>"
            ]
          },
          "metadata": {
            "tags": []
          }
        },
        {
          "output_type": "execute_result",
          "data": {
            "application/vnd.google.colaboratory.intrinsic+json": {
              "type": "string"
            },
            "text/plain": [
              "'CE244B05DA500B7AB8CA208553192874AA863B23E9700378EEFB173A35803E95'"
            ]
          },
          "metadata": {
            "tags": []
          },
          "execution_count": 49
        }
      ]
    },
    {
      "cell_type": "markdown",
      "metadata": {
        "id": "2jH2u_KwZd5C"
      },
      "source": [
        "# Swap\n"
      ]
    },
    {
      "cell_type": "code",
      "metadata": {
        "colab": {
          "base_uri": "https://localhost:8080/",
          "height": 17
        },
        "id": "3X4hh6rtZGBy",
        "outputId": "191d07c2-7e28-443b-f71e-02101a9c03f0"
      },
      "source": [
        "from terra_sdk.core.market import MsgSwap"
      ],
      "execution_count": 50,
      "outputs": [
        {
          "output_type": "display_data",
          "data": {
            "text/html": [
              "\n",
              "  <style>\n",
              "    pre {\n",
              "        white-space: pre-wrap;\n",
              "    }\n",
              "  </style>\n",
              "  "
            ],
            "text/plain": [
              "<IPython.core.display.HTML object>"
            ]
          },
          "metadata": {
            "tags": []
          }
        }
      ]
    },
    {
      "cell_type": "code",
      "metadata": {
        "colab": {
          "base_uri": "https://localhost:8080/",
          "height": 17
        },
        "id": "rdoDc733bH-R",
        "outputId": "a2b4a632-a2db-48cf-a278-b62f766994f2"
      },
      "source": [
        "swap = MsgSwap(mk.acc_address, '1000000uusd', 'uluna')"
      ],
      "execution_count": 52,
      "outputs": [
        {
          "output_type": "display_data",
          "data": {
            "text/html": [
              "\n",
              "  <style>\n",
              "    pre {\n",
              "        white-space: pre-wrap;\n",
              "    }\n",
              "  </style>\n",
              "  "
            ],
            "text/plain": [
              "<IPython.core.display.HTML object>"
            ]
          },
          "metadata": {
            "tags": []
          }
        }
      ]
    },
    {
      "cell_type": "code",
      "metadata": {
        "colab": {
          "base_uri": "https://localhost:8080/",
          "height": 17
        },
        "id": "XYb95qB3bJRv",
        "outputId": "f77371bc-87ca-4924-a59e-e4775a9e070c"
      },
      "source": [
        "tx = wallet.create_and_sign_tx(\n",
        "    msgs=[swap],\n",
        "    gas_prices='2uluna',\n",
        "    gas_adjustment='1.5',\n",
        "    fee_denoms=['uluna', 'uusd']\n",
        "    )"
      ],
      "execution_count": 55,
      "outputs": [
        {
          "output_type": "display_data",
          "data": {
            "text/html": [
              "\n",
              "  <style>\n",
              "    pre {\n",
              "        white-space: pre-wrap;\n",
              "    }\n",
              "  </style>\n",
              "  "
            ],
            "text/plain": [
              "<IPython.core.display.HTML object>"
            ]
          },
          "metadata": {
            "tags": []
          }
        }
      ]
    },
    {
      "cell_type": "code",
      "metadata": {
        "colab": {
          "base_uri": "https://localhost:8080/",
          "height": 68
        },
        "id": "HBLsqI_wbWpu",
        "outputId": "737e1bb0-94bf-40e6-cf76-07aa2b43f689"
      },
      "source": [
        "tx"
      ],
      "execution_count": 56,
      "outputs": [
        {
          "output_type": "display_data",
          "data": {
            "text/html": [
              "\n",
              "  <style>\n",
              "    pre {\n",
              "        white-space: pre-wrap;\n",
              "    }\n",
              "  </style>\n",
              "  "
            ],
            "text/plain": [
              "<IPython.core.display.HTML object>"
            ]
          },
          "metadata": {
            "tags": []
          }
        },
        {
          "output_type": "execute_result",
          "data": {
            "text/plain": [
              "StdTx(msg=[MsgSwap(trader='terra1la8v6shy3gaumtqwj94g54nsedpa26yxmfdfzx', offer_coin=Coin(denom='uusd', amount=1000000), ask_denom='uluna')], fee=StdFee(gas=215698, amount=Coins('431396uluna')), signatures=[StdSignature(signature='/Pik/zuN/ZYMGORedZUGvwqLWWJZzMHRcQ7TB4+4fd0NRMuRg2aGnUCsYvbkcYu2z51l2XX/YdvxofCoukKuww==', pub_key=PublicKey(type='tendermint/PubKeySecp256k1', value='A1Qh3vrRBgq46YITAxUX1oI9SzAKUrmLidbIxWmOSea0'))], memo='')"
            ]
          },
          "metadata": {
            "tags": []
          },
          "execution_count": 56
        }
      ]
    },
    {
      "cell_type": "code",
      "metadata": {
        "colab": {
          "base_uri": "https://localhost:8080/",
          "height": 17
        },
        "id": "WO5jTR2ubXFE",
        "outputId": "0d95b796-24b0-42db-c32d-8846080358a6"
      },
      "source": [
        "result = terra.tx.broadcast(tx)"
      ],
      "execution_count": 57,
      "outputs": [
        {
          "output_type": "display_data",
          "data": {
            "text/html": [
              "\n",
              "  <style>\n",
              "    pre {\n",
              "        white-space: pre-wrap;\n",
              "    }\n",
              "  </style>\n",
              "  "
            ],
            "text/plain": [
              "<IPython.core.display.HTML object>"
            ]
          },
          "metadata": {
            "tags": []
          }
        }
      ]
    },
    {
      "cell_type": "code",
      "metadata": {
        "colab": {
          "base_uri": "https://localhost:8080/",
          "height": 289
        },
        "id": "Pf5HUYjlbjle",
        "outputId": "8053b67d-a6b6-4d92-ec2d-4a9f3857efce"
      },
      "source": [
        "result"
      ],
      "execution_count": 60,
      "outputs": [
        {
          "output_type": "display_data",
          "data": {
            "text/html": [
              "\n",
              "  <style>\n",
              "    pre {\n",
              "        white-space: pre-wrap;\n",
              "    }\n",
              "  </style>\n",
              "  "
            ],
            "text/plain": [
              "<IPython.core.display.HTML object>"
            ]
          },
          "metadata": {
            "tags": []
          }
        },
        {
          "output_type": "execute_result",
          "data": {
            "text/plain": [
              "BlockTxBroadcastResult(height=5175269, txhash='7BCEC3168B406E33A8DCE676923C49C2D027F6D23756D97A6D4AEBB9553C3F44', raw_log='[{\"msg_index\":0,\"log\":\"\",\"events\":[{\"type\":\"message\",\"attributes\":[{\"key\":\"action\",\"value\":\"swap\"},{\"key\":\"sender\",\"value\":\"terra1la8v6shy3gaumtqwj94g54nsedpa26yxmfdfzx\"},{\"key\":\"sender\",\"value\":\"terra1untf85jwv3kt0puyyc39myxjvplagr3wstgs5s\"},{\"key\":\"module\",\"value\":\"market\"}]},{\"type\":\"swap\",\"attributes\":[{\"key\":\"offer\",\"value\":\"1000000uusd\"},{\"key\":\"trader\",\"value\":\"terra1la8v6shy3gaumtqwj94g54nsedpa26yxmfdfzx\"},{\"key\":\"recipient\",\"value\":\"terra1la8v6shy3gaumtqwj94g54nsedpa26yxmfdfzx\"},{\"key\":\"swap_coin\",\"value\":\"85399uluna\"},{\"key\":\"swap_fee\",\"value\":\"429.587868222683184236uluna\"}]},{\"type\":\"transfer\",\"attributes\":[{\"key\":\"recipient\",\"value\":\"terra1untf85jwv3kt0puyyc39myxjvplagr3wstgs5s\"},{\"key\":\"sender\",\"value\":\"terra1la8v6shy3gaumtqwj94g54nsedpa26yxmfdfzx\"},{\"key\":\"amount\",\"value\":\"1000000uusd\"},{\"key\":\"recipient\",\"value\":\"terra1la8v6shy3gaumtqwj94g54nsedpa26yxmfdfzx\"},{\"key\":\"sender\",\"value\":\"terra1untf85jwv3kt0puyyc39myxjvplagr3wstgs5s\"},{\"key\":\"amount\",\"value\":\"85399uluna\"}]}]}]', gas_wanted=215698, gas_used=141909, logs=[TxLog(msg_index=0, log='', events=[{'type': 'message', 'attributes': [{'key': 'action', 'value': 'swap'}, {'key': 'sender', 'value': 'terra1la8v6shy3gaumtqwj94g54nsedpa26yxmfdfzx'}, {'key': 'sender', 'value': 'terra1untf85jwv3kt0puyyc39myxjvplagr3wstgs5s'}, {'key': 'module', 'value': 'market'}]}, {'type': 'swap', 'attributes': [{'key': 'offer', 'value': '1000000uusd'}, {'key': 'trader', 'value': 'terra1la8v6shy3gaumtqwj94g54nsedpa26yxmfdfzx'}, {'key': 'recipient', 'value': 'terra1la8v6shy3gaumtqwj94g54nsedpa26yxmfdfzx'}, {'key': 'swap_coin', 'value': '85399uluna'}, {'key': 'swap_fee', 'value': '429.587868222683184236uluna'}]}, {'type': 'transfer', 'attributes': [{'key': 'recipient', 'value': 'terra1untf85jwv3kt0puyyc39myxjvplagr3wstgs5s'}, {'key': 'sender', 'value': 'terra1la8v6shy3gaumtqwj94g54nsedpa26yxmfdfzx'}, {'key': 'amount', 'value': '1000000uusd'}, {'key': 'recipient', 'value': 'terra1la8v6shy3gaumtqwj94g54nsedpa26yxmfdfzx'}, {'key': 'sender', 'value': 'terra1untf85jwv3kt0puyyc39myxjvplagr3wstgs5s'}, {'key': 'amount', 'value': '85399uluna'}]}], events_by_type={'message': {'action': ['swap'], 'sender': ['terra1la8v6shy3gaumtqwj94g54nsedpa26yxmfdfzx', 'terra1untf85jwv3kt0puyyc39myxjvplagr3wstgs5s'], 'module': ['market']}, 'swap': {'offer': ['1000000uusd'], 'trader': ['terra1la8v6shy3gaumtqwj94g54nsedpa26yxmfdfzx'], 'recipient': ['terra1la8v6shy3gaumtqwj94g54nsedpa26yxmfdfzx'], 'swap_coin': ['85399uluna'], 'swap_fee': ['429.587868222683184236uluna']}, 'transfer': {'recipient': ['terra1untf85jwv3kt0puyyc39myxjvplagr3wstgs5s', 'terra1la8v6shy3gaumtqwj94g54nsedpa26yxmfdfzx'], 'sender': ['terra1la8v6shy3gaumtqwj94g54nsedpa26yxmfdfzx', 'terra1untf85jwv3kt0puyyc39myxjvplagr3wstgs5s'], 'amount': ['1000000uusd', '85399uluna']}})], code=None, codespace=None)"
            ]
          },
          "metadata": {
            "tags": []
          },
          "execution_count": 60
        }
      ]
    },
    {
      "cell_type": "code",
      "metadata": {
        "colab": {
          "base_uri": "https://localhost:8080/",
          "height": 35
        },
        "id": "BJFF2othbiW6",
        "outputId": "af4bbc62-b6cc-4ddc-afa0-fc1a91e6c816"
      },
      "source": [
        " result.txhash"
      ],
      "execution_count": 58,
      "outputs": [
        {
          "output_type": "display_data",
          "data": {
            "text/html": [
              "\n",
              "  <style>\n",
              "    pre {\n",
              "        white-space: pre-wrap;\n",
              "    }\n",
              "  </style>\n",
              "  "
            ],
            "text/plain": [
              "<IPython.core.display.HTML object>"
            ]
          },
          "metadata": {
            "tags": []
          }
        },
        {
          "output_type": "execute_result",
          "data": {
            "application/vnd.google.colaboratory.intrinsic+json": {
              "type": "string"
            },
            "text/plain": [
              "'7BCEC3168B406E33A8DCE676923C49C2D027F6D23756D97A6D4AEBB9553C3F44'"
            ]
          },
          "metadata": {
            "tags": []
          },
          "execution_count": 58
        }
      ]
    },
    {
      "cell_type": "code",
      "metadata": {
        "id": "QbouQx2ibnj6"
      },
      "source": [
        ""
      ],
      "execution_count": null,
      "outputs": []
    }
  ]
}